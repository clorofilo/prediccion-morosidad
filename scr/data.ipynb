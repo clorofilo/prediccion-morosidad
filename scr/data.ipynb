{
 "cells": [
  {
   "cell_type": "code",
   "execution_count": 3,
   "id": "de409a26",
   "metadata": {},
   "outputs": [],
   "source": [
    "import pandas as pd\n",
    "import os \n",
    "from utils import (\n",
    "    normalizar_pais,\n",
    "    agrupar_pais,\n",
    "    comprobar_normalidad,\n",
    "    correlacion_variables,\n",
    "    comprobar_nomalidad_y_varianza,\n",
    "    calcular_fuerza_asociacion_2_grupos,\n",
    "    calcular_fuerza_asociacion_mas_2_grupos,\n",
    "    cramers_v,\n",
    "    calcular_independencia_categoricas,\n",
    "    agrupar_tramo,\n",
    "    cohens_d,\n",
    "    r_mannwhitney,\n",
    "    prueba_comparacion_2grupos_variable\n",
    ")\n"
   ]
  }
 ],
 "metadata": {
  "kernelspec": {
   "display_name": "Python 3",
   "language": "python",
   "name": "python3"
  },
  "language_info": {
   "codemirror_mode": {
    "name": "ipython",
    "version": 3
   },
   "file_extension": ".py",
   "mimetype": "text/x-python",
   "name": "python",
   "nbconvert_exporter": "python",
   "pygments_lexer": "ipython3",
   "version": "3.11.9"
  }
 },
 "nbformat": 4,
 "nbformat_minor": 5
}
