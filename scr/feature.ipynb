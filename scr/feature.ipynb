{
 "cells": [
  {
   "cell_type": "code",
   "execution_count": 2,
   "id": "55c6ba24",
   "metadata": {},
   "outputs": [],
   "source": [
    "import pandas as pd\n",
    "import os\n",
    "\n",
    "path_raw_data = os.path.join( '..','data','raw')\n"
   ]
  },
  {
   "cell_type": "code",
   "execution_count": 22,
   "id": "dabd2ddd",
   "metadata": {},
   "outputs": [],
   "source": [
    "def programa_to_id (programa, \n",
    "                    df_programas_id = \n",
    "                    pd.read_excel(os.path.join(\n",
    "                        path_raw_data, 'programas-id.xlsx'\n",
    "                    ))):\n",
    "    \n",
    "    id_selected = df_programas_id[df_programas_id['Programa']==programa]['ID PROGRAMA']\n",
    "    return int(id_selected.values[0])\n",
    "\n"
   ]
  },
  {
   "cell_type": "code",
   "execution_count": 23,
   "id": "d78fe6e3",
   "metadata": {},
   "outputs": [
    {
     "data": {
      "text/plain": [
       "620"
      ]
     },
     "execution_count": 23,
     "metadata": {},
     "output_type": "execute_result"
    }
   ],
   "source": [
    "programa_to_id('Tech MBA')"
   ]
  }
 ],
 "metadata": {
  "kernelspec": {
   "display_name": "Python 3",
   "language": "python",
   "name": "python3"
  },
  "language_info": {
   "codemirror_mode": {
    "name": "ipython",
    "version": 3
   },
   "file_extension": ".py",
   "mimetype": "text/x-python",
   "name": "python",
   "nbconvert_exporter": "python",
   "pygments_lexer": "ipython3",
   "version": "3.11.9"
  }
 },
 "nbformat": 4,
 "nbformat_minor": 5
}
