{
 "cells": [
  {
   "cell_type": "markdown",
   "id": "82f127b6",
   "metadata": {},
   "source": [
    "# Libs"
   ]
  },
  {
   "cell_type": "code",
   "execution_count": 1,
   "id": "d03c095b",
   "metadata": {},
   "outputs": [],
   "source": [
    "import pandas as pd\n",
    "import sys, os \n",
    "import matplotlib.pyplot as plt\n",
    "import seaborn as sns\n",
    "import math\n",
    "import warnings\n",
    "\n",
    "sys.path.append(os.path.abspath(\"..\"))\n",
    "\n",
    "from scr.utils import (\n",
    "    normalizar_pais,\n",
    "    agrupar_pais,\n",
    "    comprobar_normalidad,\n",
    "    correlacion_variables,\n",
    "    comprobar_nomalidad_y_varianza,\n",
    "    calcular_fuerza_asociacion_2_grupos,\n",
    "    calcular_fuerza_asociacion_mas_2_grupos,\n",
    "    cramers_v,\n",
    "    calcular_independencia_categoricas,\n",
    "    agrupar_tramo,\n",
    "    cohens_d,\n",
    "    r_mannwhitney,\n",
    "    prueba_comparacion_2grupos_variable\n",
    ")\n",
    "\n",
    "warnings.simplefilter(action='ignore', category=pd.errors.SettingWithCopyWarning)\n",
    "warnings.simplefilter(action='ignore', category=FutureWarning)"
   ]
  },
  {
   "cell_type": "markdown",
   "id": "d4ba7f69",
   "metadata": {},
   "source": [
    "# Funcs"
   ]
  },
  {
   "cell_type": "code",
   "execution_count": 2,
   "id": "bbcd03c6",
   "metadata": {},
   "outputs": [],
   "source": [
    "#Resumen inicial\n",
    "def analisis_basico_morosidad(df, col_moroso='Moroso',\n",
    "                              col_importe='Importe Impagado Actual',\n",
    "                              col_pct_impagado='% Impagado Actual Vdo',\n",
    "                              col_cuotas='NUMERO DE CUOTAS'):\n",
    "    \"\"\"\n",
    "    Realiza un análisis básico de morosidad sobre un DataFrame.\n",
    "\n",
    "    Parámetros\n",
    "    ----------\n",
    "    df : pd.DataFrame\n",
    "        DataFrame con la información.\n",
    "    col_moroso : str\n",
    "        Nombre de la columna que indica si el cliente es moroso (por defecto 'Moroso').\n",
    "    col_importe : str\n",
    "        Columna con el importe impagado actual.\n",
    "    col_pct_impagado : str\n",
    "        Columna con el % impagado actual vencido.\n",
    "    col_cuotas : str\n",
    "        Columna con el número de cuotas.\n",
    "\n",
    "    Retorna\n",
    "    -------\n",
    "    pd.DataFrame\n",
    "        Resumen con frecuencias, porcentajes y promedios por morosidad.\n",
    "    \"\"\"\n",
    "    \n",
    "    morosidad_frecuencia = df[col_moroso].value_counts()\n",
    "    morosidad_porcentaje = df[col_moroso].value_counts(normalize=True) * 100\n",
    "    \n",
    "    importe_impagado_promedio = df.groupby(col_moroso)[col_importe].mean()\n",
    "    porcentaje_impagado_promedio = df.groupby(col_moroso)[col_pct_impagado].mean()\n",
    "    cuotas_promedio = df.groupby(col_moroso)[col_cuotas].mean()\n",
    "\n",
    "    resumen = pd.DataFrame({\n",
    "        'Frecuencia': morosidad_frecuencia,\n",
    "        '% del total': morosidad_porcentaje,\n",
    "        'Importe Impagado Promedio': importe_impagado_promedio,\n",
    "        '% Impagado Promedio': porcentaje_impagado_promedio,\n",
    "        'Nº Cuotas Promedio': cuotas_promedio\n",
    "    })\n",
    "    \n",
    "    return resumen\n",
    "\n",
    "#Gráficos\n",
    "def plot_facturacion(df_convo_deuda, output_path=None):\n",
    "    \"\"\"\n",
    "    Genera un gráfico stacked bar de la composición de la facturación\n",
    "    pagada e impagada por tramos de % de pago inicial en la inscripción.\n",
    "\n",
    "    Parámetros\n",
    "    ----------\n",
    "    df_convo_deuda : pd.DataFrame\n",
    "        Debe contener las columnas:\n",
    "        - '% INSCRIPCION'\n",
    "        - 'FACTURACIÓN NETA'\n",
    "        - 'Importe Impagado Actual'\n",
    "        - 'Importe Cobrado'\n",
    "    \"\"\"\n",
    "\n",
    "    # Copia de trabajo\n",
    "    df_graff = df_convo_deuda[['% INSCRIPCION', 'FACTURACIÓN NETA',\n",
    "                               'Importe Impagado Actual', 'Importe Cobrado']].copy()\n",
    "\n",
    "    # Asegurar formato numérico y pasar a %\n",
    "    df_graff['% INSCRIPCION'] = pd.to_numeric(df_graff['% INSCRIPCION'],\n",
    "                                              errors='coerce') * 100\n",
    "\n",
    "    # Crear tramos del 1%\n",
    "    df_graff['TRAMO % INSCRIPCION'] = pd.cut(\n",
    "        df_graff['% INSCRIPCION'],\n",
    "        bins=range(0, 102, 1),\n",
    "        right=False,\n",
    "        labels=[f\"{i}%\" for i in range(0, 101)]\n",
    "    )\n",
    "\n",
    "    # Agrupar por tramo\n",
    "    df_grouped = df_graff.groupby('TRAMO % INSCRIPCION')[\n",
    "        ['FACTURACIÓN NETA', 'Importe Impagado Actual', 'Importe Cobrado']\n",
    "    ].sum()\n",
    "\n",
    "    # Eliminar tramos sin datos\n",
    "    df_grouped = df_grouped[(df_grouped.T != 0).any()]\n",
    "\n",
    "    # Calcular pendiente no vencido\n",
    "    df_grouped['Pendiente no vencido'] = (\n",
    "        df_grouped['FACTURACIÓN NETA']\n",
    "        - df_grouped['Importe Impagado Actual']\n",
    "        - df_grouped['Importe Cobrado']\n",
    "    )\n",
    "\n",
    "    # Calcular % impagado sobre deuda (opcional, útil para análisis extra)\n",
    "    df_grouped['%II'] = (\n",
    "        df_grouped['Importe Impagado Actual'] /\n",
    "        (df_grouped['Importe Impagado Actual'] + df_grouped['Importe Cobrado'])\n",
    "    ) * 100\n",
    "\n",
    "    # Preparar datos para gráfico\n",
    "    df_plot = df_grouped[['Pendiente no vencido',\n",
    "                          'Importe Impagado Actual', 'Importe Cobrado']]\n",
    "\n",
    "    # Graficar stacked bar\n",
    "    ax = df_plot.plot(\n",
    "        kind='bar',\n",
    "        stacked=True,\n",
    "        figsize=(14, 6),\n",
    "        color=['#1f77b4', \"#AF1010\", \"#19c70d\"]\n",
    "    )\n",
    "\n",
    "    plt.title('Distribución del impago según el % del pago inicial')\n",
    "    plt.ylabel('Euros')\n",
    "    plt.xlabel('% Inscripción')\n",
    "    plt.legend(\n",
    "        title='Concepto',\n",
    "        labels=['Pendiente no vencido', 'Impagado vencido', 'Importe Cobrado']\n",
    "    )\n",
    "    plt.tight_layout()\n",
    "    if output_path:\n",
    "        plt.savefig(output_path, dpi=300, bbox_inches='tight')\n",
    "        print(f\"✅ Gráfico guardado en {output_path}\")\n",
    "\n",
    "    plt.show()\n",
    "\n",
    "    return df_grouped  # devuelve el dataframe agregado por si quieres usarlo después\n",
    "\n",
    "def plot_facturacion_prop(df_convo_deuda, output_path=None):\n",
    "    \"\"\"\n",
    "    Genera un gráfico proporcional (100% stacked bar) de la composición de la facturación\n",
    "    por tramos de % de inscripción y opcionalmente lo guarda como imagen.\n",
    "\n",
    "    Parámetros\n",
    "    ----------\n",
    "    df_convo_deuda : pd.DataFrame\n",
    "        Debe contener las columnas:\n",
    "        - '% INSCRIPCION'\n",
    "        - 'FACTURACIÓN NETA'\n",
    "        - 'Importe Impagado Actual'\n",
    "        - 'Importe Cobrado'\n",
    "\n",
    "    output_path : str, opcional\n",
    "        Ruta donde guardar la imagen (ej: 'grafico_prop.png').\n",
    "        Si es None, no guarda nada.\n",
    "    \"\"\"\n",
    "\n",
    "    # Copiar datos\n",
    "    df_graff = df_convo_deuda[['% INSCRIPCION', 'FACTURACIÓN NETA',\n",
    "                               'Importe Impagado Actual', 'Importe Cobrado']].copy()\n",
    "\n",
    "    # Asegurar formato numérico (y convertir a %)\n",
    "    df_graff['% INSCRIPCION'] = pd.to_numeric(df_graff['% INSCRIPCION'],\n",
    "                                              errors='coerce') * 100\n",
    "\n",
    "    # Crear tramos del 1%\n",
    "    df_graff['TRAMO % INSCRIPCION'] = pd.cut(\n",
    "        df_graff['% INSCRIPCION'],\n",
    "        bins=range(0, 102, 1),\n",
    "        right=False,\n",
    "        labels=[f\"{i}%\" for i in range(0, 101)]\n",
    "    )\n",
    "\n",
    "    # Agrupar por tramo y sumar\n",
    "    df_plot = df_graff.groupby('TRAMO % INSCRIPCION')[\n",
    "        ['FACTURACIÓN NETA', 'Importe Impagado Actual', 'Importe Cobrado']\n",
    "    ].sum()\n",
    "\n",
    "    # Eliminar tramos sin datos\n",
    "    df_plot = df_plot[(df_plot.T != 0).any()]\n",
    "\n",
    "    # Calcular Pte. No Vencido\n",
    "    df_plot['Pte. No Vencido'] = (\n",
    "        df_plot['FACTURACIÓN NETA']\n",
    "        - df_plot['Importe Cobrado']\n",
    "        - df_plot['Importe Impagado Actual']\n",
    "    )\n",
    "\n",
    "    # Evitar negativos por redondeo/incoherencias\n",
    "    df_plot['Pte. No Vencido'] = df_plot['Pte. No Vencido'].clip(lower=0)\n",
    "\n",
    "    # Preparar datos en orden (Cobrado, Impagado, Pte. No Vencido)\n",
    "    df_plot_final = df_plot[['Importe Cobrado', 'Importe Impagado Actual', 'Pte. No Vencido']]\n",
    "\n",
    "    # Normalizar a proporción (cada fila suma 1)\n",
    "    df_plot_prop = df_plot_final.div(df_plot_final.sum(axis=1), axis=0)\n",
    "\n",
    "    # Graficar\n",
    "    ax = df_plot_prop.plot(\n",
    "        kind='bar',\n",
    "        stacked=True,\n",
    "        figsize=(14, 6),\n",
    "        color=['#2ca02c', '#ff7f0e', '#1f77b4']\n",
    "    )\n",
    "\n",
    "    plt.title('Distribución proporcional: Facturación vs Impagado por % de Inscripción')\n",
    "    plt.ylabel('Proporción')\n",
    "    plt.xlabel('% Inscripción')\n",
    "    plt.legend(title='Concepto', labels=['Cobrado', 'Impagado', 'Pte. No Vencido'], loc='upper right')\n",
    "    plt.tight_layout()\n",
    "\n",
    "    # Guardar si se pasa ruta\n",
    "    if output_path:\n",
    "        plt.savefig(output_path, dpi=300, bbox_inches='tight')\n",
    "        print(f\"✅ Gráfico guardado en {output_path}\")\n",
    "\n",
    "    plt.show()\n",
    "\n",
    "    return df_plot_prop\n",
    "\n",
    "def agrupar_tramo(tramo):\n",
    "    \"\"\"Agrypa en 4 tramos los distintos\n",
    "    % de Pago Inicial (PI)\"\"\"\n",
    "    if tramo < 14:\n",
    "        return '0-13%'\n",
    "    elif 14 <= tramo < 16:\n",
    "        return '14-15%'\n",
    "    elif 16 <= tramo <= 20:\n",
    "        return '16-20%'\n",
    "    else:\n",
    "        return 'Resto'\n",
    "    \n",
    "def agrupar_tramo_2(tramo):\n",
    "    \"\"\"Agrypa en 4 tramos los distintos\n",
    "    % de Pago Inicial (PI)\"\"\"\n",
    "    if tramo < 6:\n",
    "        return '0-5%'\n",
    "    elif 6 <= tramo < 11:\n",
    "        return '6-10%'\n",
    "    elif 11 <= tramo <= 13:\n",
    "        return '11-13%'\n",
    "    elif 21 <= tramo <= 30:\n",
    "        return '21-30%'\n",
    "    elif 31 <= tramo <= 50:\n",
    "        return '31-50%'\n",
    "    else:\n",
    "        return 'Resto'\n",
    "    \n",
    "def plot_facturacion_custom(df_convo_deuda, agrupar_tramo, output_path=None, orden=None):\n",
    "    \"\"\"\n",
    "    Genera un gráfico stacked bar de la facturación agrupada en tramos personalizados\n",
    "    y añade etiquetas con el % de impagado sobre lo vencido.\n",
    "    \"\"\"\n",
    "    # Copiar datos relevantes\n",
    "    df_graff = df_convo_deuda[['% INSCRIPCION', 'FACTURACIÓN NETA',\n",
    "                               'Importe Impagado Actual', 'Importe Cobrado']].copy()\n",
    "\n",
    "    # Asegurar formato correcto\n",
    "    df_graff['% INSCRIPCION'] = pd.to_numeric(df_graff['% INSCRIPCION'], errors='coerce') * 100\n",
    "\n",
    "    # Crear tramos del 1%\n",
    "    df_graff['TRAMO % INSCRIPCION'] = pd.cut(\n",
    "        df_graff['% INSCRIPCION'],\n",
    "        bins=range(0, 102, 1),\n",
    "        right=False,\n",
    "        labels=[f\"{i}%\" for i in range(0, 101)]\n",
    "    )\n",
    "\n",
    "    # Agrupar por tramo y sumar\n",
    "    df_grouped = df_graff.groupby('TRAMO % INSCRIPCION')[\n",
    "        ['FACTURACIÓN NETA', 'Importe Impagado Actual', 'Importe Cobrado']\n",
    "    ].sum()\n",
    "\n",
    "    # Eliminar tramos sin datos\n",
    "    df_grouped = df_grouped[(df_grouped.T != 0).any()]\n",
    "\n",
    "    # Copia para agrupar en bloques personalizados\n",
    "    df_grouped_custom = df_grouped.copy()\n",
    "    df_grouped_custom['tramo_numerico'] = df_grouped_custom.index.str.replace('%', '').astype(int)\n",
    "    df_grouped_custom['GRUPO PERSONALIZADO'] = df_grouped_custom['tramo_numerico'].apply(agrupar_tramo)\n",
    "    df_grouped_custom.drop(columns=['tramo_numerico'], inplace=True)\n",
    "\n",
    "    # Agrupar por grupo personalizado\n",
    "    df2 = df_grouped_custom.groupby('GRUPO PERSONALIZADO')[\n",
    "        ['FACTURACIÓN NETA', 'Importe Impagado Actual', 'Importe Cobrado']\n",
    "    ].sum()\n",
    "\n",
    "    # Calcular Pte. No Vencido\n",
    "    df2['Pte. No Vencido'] = df2['FACTURACIÓN NETA'] - df2['Importe Impagado Actual'] - df2['Importe Cobrado']\n",
    "    df2['Pte. No Vencido'] = df2['Pte. No Vencido'].clip(lower=0)\n",
    "\n",
    "    # Calcular % impagado sobre lo vencido\n",
    "    df2['% Impagado VDO'] = df2['Importe Impagado Actual'] / (df2['Importe Impagado Actual'] + df2['Importe Cobrado'])\n",
    "    df2['% Impagado VDO'] = df2['% Impagado VDO'].fillna(0)\n",
    "    df2['% Impagado VDO Texto'] = (df2['% Impagado VDO'] * 100).round(1).astype(str) + '%'\n",
    "\n",
    "    # Preparar datos para gráfico\n",
    "    df_plot = df2[['Importe Cobrado', 'Importe Impagado Actual', 'Pte. No Vencido']]\n",
    "\n",
    "    # Si no se pasa orden, usar el índice actual\n",
    "    if orden is None:\n",
    "        orden = df2.index.tolist()\n",
    "\n",
    "    # Reordenar si las etiquetas están en el índice\n",
    "    orden_validado = [g for g in orden if g in df2.index]\n",
    "    df_plot = df_plot.loc[orden_validado]\n",
    "    df2 = df2.loc[orden_validado]\n",
    "\n",
    "    # Graficar\n",
    "    ax = df_plot.plot(kind='bar', stacked=True, figsize=(14, 6),\n",
    "                      color=['#19c70d', '#AF1010', '#1f77b4'])\n",
    "\n",
    "    # Añadir etiquetas con % impagado centradas en la franja naranja\n",
    "    for i, val in enumerate(df2['% Impagado VDO Texto']):\n",
    "        base = df_plot.iloc[i, 0]\n",
    "        altura = df_plot.iloc[i, 1]\n",
    "        y = base + altura / 2\n",
    "        ax.text(i, y, val,\n",
    "                ha='center', va='center', fontsize=10, fontweight='bold', color=\"black\")\n",
    "\n",
    "    plt.title('Composición interna de la facturación y % Impagado sobre vencido')\n",
    "    plt.ylabel('Euros')\n",
    "    plt.xlabel('Grupo % Inscripción')\n",
    "    plt.tight_layout()\n",
    "\n",
    "    if output_path:\n",
    "        plt.savefig(output_path, dpi=300, bbox_inches='tight')\n",
    "        print(f\"✅ Gráfico guardado en {output_path}\")\n",
    "\n",
    "    plt.show()\n",
    "\n",
    "    return df2\n",
    "\n",
    "def analizar_categoricas_vs_objetivo(df, target_col, alpha=0.05, verbose=True, plot=True, output_path = None):\n",
    "    \"\"\"\n",
    "    Analiza la relación entre variables categóricas y una variable objetivo categórica\n",
    "    usando Chi2 y Cramér's V, y genera un heatmap con los resultados significativos.\n",
    "\n",
    "    Parámetros\n",
    "    ----------\n",
    "    df : pd.DataFrame\n",
    "        DataFrame con variables categóricas y la variable objetivo.\n",
    "    target_col : str\n",
    "        Nombre de la variable objetivo categórica (ej. 'Moroso').\n",
    "    alpha : float, opcional (default=0.05)\n",
    "        Nivel de significación para considerar una variable como significativa.\n",
    "    verbose : bool, opcional\n",
    "        Si True, imprime un resumen en pantalla.\n",
    "    plot : bool, opcional\n",
    "        Si True, genera un heatmap con los valores de Cramér's V.\n",
    "\n",
    "    Retorna\n",
    "    -------\n",
    "    df_resultados : pd.DataFrame\n",
    "        DataFrame con columnas:\n",
    "        ['var1', 'var2', 'chi2', 'p', 'V']\n",
    "        ordenado por fuerza de asociación (V).\n",
    "    \"\"\"\n",
    "\n",
    "    # Seleccionar solo variables categóricas\n",
    "    df_categoricas = df.select_dtypes(include='category')\n",
    "\n",
    "    # Excluir la columna target si está\n",
    "    if target_col in df_categoricas.columns:\n",
    "        df_categoricas = df_categoricas.drop(columns=target_col)\n",
    "\n",
    "    # Calcular relaciones\n",
    "    list_corr_cat = []\n",
    "    for cat in df_categoricas.columns:\n",
    "        var1, var2, chi2, p, V = calcular_independencia_categoricas(df, cat, target_col)\n",
    "        list_corr_cat.append([var1, var2, chi2, p, V])\n",
    "\n",
    "    # Construir DataFrame de resultados\n",
    "    df_correlacion_cat = pd.DataFrame(list_corr_cat, columns=['var1', 'var2', 'chi2', 'p', 'V'])\n",
    "\n",
    "    # Filtrar significativas\n",
    "    df_significativas = df_correlacion_cat[df_correlacion_cat['p'] < alpha].sort_values('V', ascending=False)\n",
    "\n",
    "    if verbose:\n",
    "        print('*' * 100)\n",
    "        print(f\"{len(df_significativas)} de las {len(df_correlacion_cat)} variables categóricas \"\n",
    "              f\"son significativas para {target_col} (α={alpha})\")\n",
    "        print(\"Ordenadas según su fuerza de asociación por el estadístico V de Cramer:\")\n",
    "        display(df_significativas)\n",
    "\n",
    "    # Heatmap de las significativas\n",
    "    if plot and not df_significativas.empty:\n",
    "        plt.figure(figsize=(8, max(4, len(df_significativas) * 0.5)))\n",
    "        sns.heatmap(df_significativas.set_index(\"var1\")[[\"V\"]],\n",
    "                    annot=True, cmap=\"YlOrRd\", cbar=True, vmin=0, vmax=1)\n",
    "        plt.title(f\"Asociación de variables categóricas con {target_col} (Cramér's V)\")\n",
    "        plt.tight_layout()\n",
    "        plt.show()\n",
    "    if output_path:\n",
    "        plt.savefig(output_path, dpi=300, bbox_inches=\"tight\")\n",
    "        print(f\"✅ Gráficos guardados en {output_path}\")\n",
    "    return df_correlacion_cat\n",
    "\n",
    "def analizar_numericas_vs_objetivo(df, target_col, alpha=0.05, verbose=True, plot=True, output_path = None):\n",
    "    \"\"\"\n",
    "    Analiza la relación entre variables numéricas y una variable objetivo categórica (binaria),\n",
    "    aplicando tests de comparación (t-test o Mann-Whitney) y calculando tamaño del efecto.\n",
    "\n",
    "    Parámetros\n",
    "    ----------\n",
    "    df : pd.DataFrame\n",
    "        DataFrame con variables numéricas y la variable objetivo.\n",
    "    target_col : str\n",
    "        Nombre de la variable objetivo categórica (ej. 'Moroso').\n",
    "    alpha : float, opcional (default=0.05)\n",
    "        Nivel de significación.\n",
    "    verbose : bool, opcional\n",
    "        Si True, imprime un resumen en pantalla.\n",
    "    plot : bool, opcional\n",
    "        Si True, genera un heatmap ordenado por tamaño del efecto.\n",
    "\n",
    "    Retorna\n",
    "    -------\n",
    "    df_resultados : pd.DataFrame\n",
    "        DataFrame con columnas:\n",
    "        ['col', 'p Shapiro-Wilk', 'p Levene', 'metodo', 'stat', 'p_test', 'effect_size']\n",
    "    \"\"\"\n",
    "\n",
    "    df_num = df.select_dtypes(include=\"number\")\n",
    "\n",
    "    list_corr_num = []\n",
    "    for col in df_num.columns:\n",
    "        try:\n",
    "            p_norm, p_var, metodo, stat, p_test, effect_size = prueba_comparacion_2grupos_variable(\n",
    "                df_num[col], df[target_col]\n",
    "            )\n",
    "            list_corr_num.append([col, p_norm, p_var, metodo, stat, p_test, effect_size])\n",
    "        except Exception as e:\n",
    "            print(f\"⚠️ Error con la variable {col}: {e}\")\n",
    "\n",
    "    df_correlacion_num = pd.DataFrame(\n",
    "        list_corr_num,\n",
    "        columns=['col', 'p Shapiro-Wilk', 'p Levene', 'metodo', 'stat', 'p_test', 'effect_size']\n",
    "    )\n",
    "\n",
    "    # Filtrar significativas\n",
    "    df_significativas = df_correlacion_num[df_correlacion_num['p_test'] < alpha].copy()\n",
    "\n",
    "    # Ordenar por tamaño del efecto (valor absoluto, mayor impacto primero)\n",
    "    df_significativas = df_significativas.reindex(\n",
    "        df_significativas['effect_size'].abs().sort_values(ascending=False).index\n",
    "    )\n",
    "\n",
    "    if verbose:\n",
    "        print('*' * 100)\n",
    "        print(f\"{len(df_significativas)} de las {len(df_correlacion_num)} variables numéricas \"\n",
    "              f\"son significativas para {target_col} (α={alpha})\")\n",
    "        print(\"Ordenadas por tamaño del efecto:\")\n",
    "        display(df_significativas)\n",
    "\n",
    "    # Heatmap de las significativas\n",
    "    if plot and not df_significativas.empty:\n",
    "        plt.figure(figsize=(8, max(4, len(df_significativas) * 0.5)))\n",
    "        sns.heatmap(df_significativas.set_index(\"col\")[[\"effect_size\"]],\n",
    "                    annot=True, cmap=\"RdBu_r\", center=0, cbar=True, vmin=-1, vmax=1)\n",
    "        plt.title(f\"Tamaño del efecto de variables numéricas frente a {target_col}\")\n",
    "        plt.tight_layout()\n",
    "        plt.show()\n",
    "    if output_path:\n",
    "        plt.savefig(output_path, dpi=300, bbox_inches=\"tight\")\n",
    "        print(f\"✅ Gráficos guardados en {output_path}\")\n",
    "\n",
    "    return df_correlacion_num\n",
    "\n",
    "def boxplots_numericas_vs_objetivo(df, target_col, output_path=None, max_cols=3,\n",
    "                                   width=4, height=3):\n",
    "    \"\"\"\n",
    "    Genera boxplots de todas las variables numéricas frente a una variable categórica (ej. Moroso).\n",
    "\n",
    "    Parámetros\n",
    "    ----------\n",
    "    df : pd.DataFrame\n",
    "        DataFrame con los datos.\n",
    "    target_col : str\n",
    "        Variable categórica objetivo (ej. 'Moroso').\n",
    "    output_path : str, opcional\n",
    "        Ruta donde guardar la imagen completa (ej. 'boxplots.png'). Si None, no guarda.\n",
    "    max_cols : int, opcional\n",
    "        Número máximo de columnas en la cuadrícula de subplots.\n",
    "    width : int, opcional\n",
    "        Ancho de cada subplot en pulgadas (default=4).\n",
    "    height : int, opcional\n",
    "        Alto de cada subplot en pulgadas (default=3).\n",
    "\n",
    "    Retorna\n",
    "    -------\n",
    "    None\n",
    "    \"\"\"\n",
    "\n",
    "    # Seleccionar variables numéricas\n",
    "    num_cols = df.select_dtypes(include=\"number\").columns.tolist()\n",
    "\n",
    "    if not num_cols:\n",
    "        print(\"⚠️ No se encontraron variables numéricas en el DataFrame.\")\n",
    "        return\n",
    "\n",
    "    # Definir grid de subplots\n",
    "    n_vars = len(num_cols)\n",
    "    n_cols = min(max_cols, n_vars)\n",
    "    n_rows = math.ceil(n_vars / n_cols)\n",
    "\n",
    "    fig, axes = plt.subplots(n_rows, n_cols, figsize=(width*n_cols, height*n_rows))\n",
    "    axes = axes.flatten() if n_vars > 1 else [axes]\n",
    "\n",
    "    # Crear cada boxplot\n",
    "    for i, col in enumerate(num_cols):\n",
    "        sns.boxplot(x=target_col, y=col, data=df.reset_index(), ax=axes[i])\n",
    "        axes[i].set_title(f\"{col}\", fontsize=10)\n",
    "        axes[i].set_xlabel(target_col, fontsize=8)\n",
    "        axes[i].set_ylabel(col, fontsize=8)\n",
    "\n",
    "    # Eliminar ejes vacíos si sobran\n",
    "    for j in range(i+1, len(axes)):\n",
    "        fig.delaxes(axes[j])\n",
    "\n",
    "    plt.tight_layout()\n",
    "\n",
    "    # Guardar si se pide\n",
    "    if output_path:\n",
    "        plt.savefig(output_path, dpi=300, bbox_inches=\"tight\")\n",
    "        print(f\"✅ Gráficos guardados en {output_path}\")\n",
    "\n",
    "    plt.show()\n"
   ]
  },
  {
   "cell_type": "markdown",
   "id": "842facff",
   "metadata": {},
   "source": [
    "# Paths"
   ]
  },
  {
   "cell_type": "code",
   "execution_count": 3,
   "id": "f66d45d4",
   "metadata": {},
   "outputs": [],
   "source": [
    "path_processed_data = os.path.join('..', 'data','processed')\n",
    "path_reports = os.path.join('..', 'reports')"
   ]
  },
  {
   "cell_type": "markdown",
   "id": "c7732de6",
   "metadata": {},
   "source": [
    "# Load"
   ]
  },
  {
   "cell_type": "code",
   "execution_count": 4,
   "id": "5285d68a",
   "metadata": {},
   "outputs": [],
   "source": [
    "df_convo_deuda = pd.read_csv(os.path.join(path_processed_data, 'data.csv'))"
   ]
  },
  {
   "cell_type": "markdown",
   "id": "0ed9aa2a",
   "metadata": {},
   "source": [
    "# Transform"
   ]
  },
  {
   "cell_type": "code",
   "execution_count": 5,
   "id": "4508cb66",
   "metadata": {},
   "outputs": [],
   "source": [
    "# Convertir las variables pertientes a categoricas\n",
    "columnas_categoricas = ['DIA CERO', 'ID PROGRAMA',\n",
    "       'TIPO PROGRAMA', 'NACIONALIDAD', 'PAÍS DE RESIDENCIA', \n",
    "       'MEDIO PAGO PI', 'MEDIO PAGO IMPORTE PENDIENTE', \n",
    "       'DIFERENCIA PI vs. IMPORTE PTE',\n",
    "       'FORMA DE PAGO', 'ASESOR', 'Moroso',\n",
    "       'FORMA DE PAGO ORIGINAL', 'AGRUPACION NACIONALIDAD', \n",
    "       'AGRUPACION PAÍS DE RESIDENCIA', 'MANTIENE MEDIO PAGO',\n",
    "       'DIFERENCIA PI vs. IMPORTE PTE'\n",
    "         ]\n",
    "for col in columnas_categoricas:\n",
    "    df_convo_deuda[col] = df_convo_deuda[col].astype('category')"
   ]
  },
  {
   "cell_type": "markdown",
   "id": "25d30c31",
   "metadata": {},
   "source": [
    "# EDA"
   ]
  },
  {
   "cell_type": "markdown",
   "id": "f8b8e39e",
   "metadata": {},
   "source": [
    "## Vista preliminar"
   ]
  },
  {
   "cell_type": "code",
   "execution_count": 6,
   "id": "d50e19d6",
   "metadata": {},
   "outputs": [
    {
     "data": {
      "application/vnd.microsoft.datawrangler.viewer.v0+json": {
       "columns": [
        {
         "name": "index",
         "rawType": "int64",
         "type": "integer"
        },
        {
         "name": "DIA CERO",
         "rawType": "category",
         "type": "unknown"
        },
        {
         "name": "FECHA PRODUCCIÓN",
         "rawType": "object",
         "type": "string"
        },
        {
         "name": "ID PROGRAMA",
         "rawType": "category",
         "type": "unknown"
        },
        {
         "name": "PRECIO CURSO",
         "rawType": "float64",
         "type": "float"
        },
        {
         "name": "FACTURACIÓN NETA",
         "rawType": "float64",
         "type": "float"
        },
        {
         "name": "IMPORTE INSCRIPCIÓN",
         "rawType": "float64",
         "type": "float"
        },
        {
         "name": "% INSCRIPCION",
         "rawType": "float64",
         "type": "float"
        },
        {
         "name": "MEDIO PAGO PI",
         "rawType": "category",
         "type": "unknown"
        },
        {
         "name": "IMPORTE PENDIENTE PAGO",
         "rawType": "float64",
         "type": "float"
        },
        {
         "name": "MEDIO PAGO IMPORTE PENDIENTE",
         "rawType": "category",
         "type": "unknown"
        },
        {
         "name": "NUMERO DE CUOTAS",
         "rawType": "int64",
         "type": "integer"
        },
        {
         "name": "FECHA 1ra CUOTA",
         "rawType": "object",
         "type": "string"
        },
        {
         "name": "FORMA DE PAGO",
         "rawType": "category",
         "type": "unknown"
        },
        {
         "name": "ASESOR",
         "rawType": "category",
         "type": "unknown"
        },
        {
         "name": "FECHA 1ra CUOTA ORIGINAL",
         "rawType": "object",
         "type": "string"
        },
        {
         "name": "FORMA DE PAGO ORIGINAL",
         "rawType": "category",
         "type": "unknown"
        },
        {
         "name": "TIPO PROGRAMA",
         "rawType": "category",
         "type": "unknown"
        },
        {
         "name": "NACIONALIDAD",
         "rawType": "category",
         "type": "unknown"
        },
        {
         "name": "PAÍS DE RESIDENCIA",
         "rawType": "category",
         "type": "unknown"
        },
        {
         "name": "AGRUPACION NACIONALIDAD",
         "rawType": "category",
         "type": "unknown"
        },
        {
         "name": "AGRUPACION PAÍS DE RESIDENCIA",
         "rawType": "category",
         "type": "unknown"
        },
        {
         "name": "MANTIENE MEDIO PAGO",
         "rawType": "category",
         "type": "unknown"
        },
        {
         "name": "DIFERENCIA PI vs. IMPORTE PTE",
         "rawType": "category",
         "type": "unknown"
        },
        {
         "name": "DIFERENCIA FECHA 1ra CUOTA - ORIGINAL",
         "rawType": "float64",
         "type": "float"
        },
        {
         "name": "DIFERENCIA FECHA PRODUCCIÓN - 1ra CUOTA",
         "rawType": "float64",
         "type": "float"
        },
        {
         "name": "% DTO",
         "rawType": "float64",
         "type": "float"
        },
        {
         "name": "Moroso",
         "rawType": "category",
         "type": "unknown"
        },
        {
         "name": "% Impagado Actual Vdo",
         "rawType": "float64",
         "type": "float"
        },
        {
         "name": "Importe Impagado Actual",
         "rawType": "float64",
         "type": "float"
        },
        {
         "name": "Importe Cobrado",
         "rawType": "float64",
         "type": "float"
        }
       ],
       "ref": "443d3a51-b72a-40af-a940-4d2ea76f7d65",
       "rows": [
        [
         "0",
         "False",
         "2023-05-23",
         "990",
         "13900.0",
         "7993.89",
         "799.89",
         "0.1000626728664017",
         "TARJETA",
         "7194.0",
         "LINK DE PAGO",
         "1",
         "2023-07-01",
         "CONTADO DIAS",
         "Manuel Martínez",
         "2023-07-01",
         "CONTADO DIAS",
         "MBA",
         "Chile",
         "Chile",
         "CHILE",
         "CHILE",
         "False",
         "False",
         "0.0",
         "39.0",
         "0.4248999999999999",
         "False",
         "0.0",
         "0.0",
         "7993.9"
        ],
        [
         "1",
         "False",
         "2023-05-31",
         "720",
         "7500.0",
         "4937.62",
         "740.64",
         "0.1499993924198298",
         "TARJETA",
         "4196.98",
         "LINK DE PAGO",
         "1",
         "2023-12-01",
         "CONTADO DIAS",
         "Paula García",
         "2023-12-01",
         "CONTADO DIAS",
         "MST",
         "Ecuador",
         "Ecuador",
         "ECUADOR",
         "ECUADOR",
         "False",
         "False",
         "0.0",
         "184.0",
         "0.3416506666666666",
         "True",
         "0.8500081011017497",
         "4197.0",
         "740.6"
        ],
        [
         "2",
         "False",
         "2023-05-31",
         "150",
         "7500.0",
         "5343.75",
         "801.56",
         "0.1499995321637426",
         "TARJETA",
         "4542.1900000000005",
         "TARJETA",
         "12",
         "2024-04-01",
         "APLAZADO",
         "Silvia Campos",
         "2024-04-01",
         "APLAZADO",
         "MST",
         "Perú",
         "Perú",
         "PERÚ",
         "PERÚ",
         "True",
         "True",
         "0.0",
         "306.0",
         "0.2875",
         "False",
         "0.0",
         "0.0",
         "5343.6"
        ],
        [
         "3",
         "False",
         "2023-07-03",
         "400",
         "7500.0",
         "4809.37",
         "721.41",
         "0.1500009356734873",
         "TARJETA",
         "4087.96",
         "TARJETA",
         "12",
         "2023-10-01",
         "APLAZADO",
         "Gabriela de Cordova",
         "2023-10-01",
         "APLAZADO",
         "MST",
         "Nicaragua",
         "Nicaragua",
         "R. LATAM",
         "R. LATAM",
         "True",
         "True",
         "0.0",
         "90.0",
         "0.3587506666666666",
         "False",
         "0.0",
         "0.0",
         "3986.600000000001"
        ],
        [
         "4",
         "False",
         "2023-07-17",
         "700",
         "7500.0",
         "5062.5",
         "506.25",
         "0.1",
         "PAYBAY",
         "4556.25",
         "LINK DE PAGO",
         "13",
         "2023-09-01",
         "APLAZADO",
         "Mery Chapler",
         "2023-09-01",
         "APLAZADO",
         "MST",
         "México",
         "México",
         "MÉXICO",
         "MÉXICO",
         "False",
         "False",
         "0.0",
         "46.0",
         "0.3249999999999999",
         "False",
         "0.0",
         "0.0",
         "5062.7"
        ]
       ],
       "shape": {
        "columns": 30,
        "rows": 5
       }
      },
      "text/html": [
       "<div>\n",
       "<style scoped>\n",
       "    .dataframe tbody tr th:only-of-type {\n",
       "        vertical-align: middle;\n",
       "    }\n",
       "\n",
       "    .dataframe tbody tr th {\n",
       "        vertical-align: top;\n",
       "    }\n",
       "\n",
       "    .dataframe thead th {\n",
       "        text-align: right;\n",
       "    }\n",
       "</style>\n",
       "<table border=\"1\" class=\"dataframe\">\n",
       "  <thead>\n",
       "    <tr style=\"text-align: right;\">\n",
       "      <th></th>\n",
       "      <th>DIA CERO</th>\n",
       "      <th>FECHA PRODUCCIÓN</th>\n",
       "      <th>ID PROGRAMA</th>\n",
       "      <th>PRECIO CURSO</th>\n",
       "      <th>FACTURACIÓN NETA</th>\n",
       "      <th>IMPORTE INSCRIPCIÓN</th>\n",
       "      <th>% INSCRIPCION</th>\n",
       "      <th>MEDIO PAGO PI</th>\n",
       "      <th>IMPORTE PENDIENTE PAGO</th>\n",
       "      <th>MEDIO PAGO IMPORTE PENDIENTE</th>\n",
       "      <th>...</th>\n",
       "      <th>AGRUPACION PAÍS DE RESIDENCIA</th>\n",
       "      <th>MANTIENE MEDIO PAGO</th>\n",
       "      <th>DIFERENCIA PI vs. IMPORTE PTE</th>\n",
       "      <th>DIFERENCIA FECHA 1ra CUOTA - ORIGINAL</th>\n",
       "      <th>DIFERENCIA FECHA PRODUCCIÓN - 1ra CUOTA</th>\n",
       "      <th>% DTO</th>\n",
       "      <th>Moroso</th>\n",
       "      <th>% Impagado Actual Vdo</th>\n",
       "      <th>Importe Impagado Actual</th>\n",
       "      <th>Importe Cobrado</th>\n",
       "    </tr>\n",
       "  </thead>\n",
       "  <tbody>\n",
       "    <tr>\n",
       "      <th>0</th>\n",
       "      <td>False</td>\n",
       "      <td>2023-05-23</td>\n",
       "      <td>990</td>\n",
       "      <td>13900.0</td>\n",
       "      <td>7993.89</td>\n",
       "      <td>799.89</td>\n",
       "      <td>0.100063</td>\n",
       "      <td>TARJETA</td>\n",
       "      <td>7194.00</td>\n",
       "      <td>LINK DE PAGO</td>\n",
       "      <td>...</td>\n",
       "      <td>CHILE</td>\n",
       "      <td>False</td>\n",
       "      <td>False</td>\n",
       "      <td>0.0</td>\n",
       "      <td>39.0</td>\n",
       "      <td>0.424900</td>\n",
       "      <td>False</td>\n",
       "      <td>0.000000</td>\n",
       "      <td>0.0</td>\n",
       "      <td>7993.9</td>\n",
       "    </tr>\n",
       "    <tr>\n",
       "      <th>1</th>\n",
       "      <td>False</td>\n",
       "      <td>2023-05-31</td>\n",
       "      <td>720</td>\n",
       "      <td>7500.0</td>\n",
       "      <td>4937.62</td>\n",
       "      <td>740.64</td>\n",
       "      <td>0.149999</td>\n",
       "      <td>TARJETA</td>\n",
       "      <td>4196.98</td>\n",
       "      <td>LINK DE PAGO</td>\n",
       "      <td>...</td>\n",
       "      <td>ECUADOR</td>\n",
       "      <td>False</td>\n",
       "      <td>False</td>\n",
       "      <td>0.0</td>\n",
       "      <td>184.0</td>\n",
       "      <td>0.341651</td>\n",
       "      <td>True</td>\n",
       "      <td>0.850008</td>\n",
       "      <td>4197.0</td>\n",
       "      <td>740.6</td>\n",
       "    </tr>\n",
       "    <tr>\n",
       "      <th>2</th>\n",
       "      <td>False</td>\n",
       "      <td>2023-05-31</td>\n",
       "      <td>150</td>\n",
       "      <td>7500.0</td>\n",
       "      <td>5343.75</td>\n",
       "      <td>801.56</td>\n",
       "      <td>0.150000</td>\n",
       "      <td>TARJETA</td>\n",
       "      <td>4542.19</td>\n",
       "      <td>TARJETA</td>\n",
       "      <td>...</td>\n",
       "      <td>PERÚ</td>\n",
       "      <td>True</td>\n",
       "      <td>True</td>\n",
       "      <td>0.0</td>\n",
       "      <td>306.0</td>\n",
       "      <td>0.287500</td>\n",
       "      <td>False</td>\n",
       "      <td>0.000000</td>\n",
       "      <td>0.0</td>\n",
       "      <td>5343.6</td>\n",
       "    </tr>\n",
       "    <tr>\n",
       "      <th>3</th>\n",
       "      <td>False</td>\n",
       "      <td>2023-07-03</td>\n",
       "      <td>400</td>\n",
       "      <td>7500.0</td>\n",
       "      <td>4809.37</td>\n",
       "      <td>721.41</td>\n",
       "      <td>0.150001</td>\n",
       "      <td>TARJETA</td>\n",
       "      <td>4087.96</td>\n",
       "      <td>TARJETA</td>\n",
       "      <td>...</td>\n",
       "      <td>R. LATAM</td>\n",
       "      <td>True</td>\n",
       "      <td>True</td>\n",
       "      <td>0.0</td>\n",
       "      <td>90.0</td>\n",
       "      <td>0.358751</td>\n",
       "      <td>False</td>\n",
       "      <td>0.000000</td>\n",
       "      <td>0.0</td>\n",
       "      <td>3986.6</td>\n",
       "    </tr>\n",
       "    <tr>\n",
       "      <th>4</th>\n",
       "      <td>False</td>\n",
       "      <td>2023-07-17</td>\n",
       "      <td>700</td>\n",
       "      <td>7500.0</td>\n",
       "      <td>5062.50</td>\n",
       "      <td>506.25</td>\n",
       "      <td>0.100000</td>\n",
       "      <td>PAYBAY</td>\n",
       "      <td>4556.25</td>\n",
       "      <td>LINK DE PAGO</td>\n",
       "      <td>...</td>\n",
       "      <td>MÉXICO</td>\n",
       "      <td>False</td>\n",
       "      <td>False</td>\n",
       "      <td>0.0</td>\n",
       "      <td>46.0</td>\n",
       "      <td>0.325000</td>\n",
       "      <td>False</td>\n",
       "      <td>0.000000</td>\n",
       "      <td>0.0</td>\n",
       "      <td>5062.7</td>\n",
       "    </tr>\n",
       "  </tbody>\n",
       "</table>\n",
       "<p>5 rows × 30 columns</p>\n",
       "</div>"
      ],
      "text/plain": [
       "  DIA CERO FECHA PRODUCCIÓN ID PROGRAMA  PRECIO CURSO  FACTURACIÓN NETA  \\\n",
       "0    False       2023-05-23         990       13900.0           7993.89   \n",
       "1    False       2023-05-31         720        7500.0           4937.62   \n",
       "2    False       2023-05-31         150        7500.0           5343.75   \n",
       "3    False       2023-07-03         400        7500.0           4809.37   \n",
       "4    False       2023-07-17         700        7500.0           5062.50   \n",
       "\n",
       "   IMPORTE INSCRIPCIÓN  % INSCRIPCION MEDIO PAGO PI  IMPORTE PENDIENTE PAGO  \\\n",
       "0               799.89       0.100063       TARJETA                 7194.00   \n",
       "1               740.64       0.149999       TARJETA                 4196.98   \n",
       "2               801.56       0.150000       TARJETA                 4542.19   \n",
       "3               721.41       0.150001       TARJETA                 4087.96   \n",
       "4               506.25       0.100000        PAYBAY                 4556.25   \n",
       "\n",
       "  MEDIO PAGO IMPORTE PENDIENTE  ...  AGRUPACION PAÍS DE RESIDENCIA  \\\n",
       "0                 LINK DE PAGO  ...                          CHILE   \n",
       "1                 LINK DE PAGO  ...                        ECUADOR   \n",
       "2                      TARJETA  ...                           PERÚ   \n",
       "3                      TARJETA  ...                       R. LATAM   \n",
       "4                 LINK DE PAGO  ...                         MÉXICO   \n",
       "\n",
       "  MANTIENE MEDIO PAGO DIFERENCIA PI vs. IMPORTE PTE  \\\n",
       "0               False                         False   \n",
       "1               False                         False   \n",
       "2                True                          True   \n",
       "3                True                          True   \n",
       "4               False                         False   \n",
       "\n",
       "  DIFERENCIA FECHA 1ra CUOTA - ORIGINAL  \\\n",
       "0                                   0.0   \n",
       "1                                   0.0   \n",
       "2                                   0.0   \n",
       "3                                   0.0   \n",
       "4                                   0.0   \n",
       "\n",
       "  DIFERENCIA FECHA PRODUCCIÓN - 1ra CUOTA     % DTO Moroso  \\\n",
       "0                                    39.0  0.424900  False   \n",
       "1                                   184.0  0.341651   True   \n",
       "2                                   306.0  0.287500  False   \n",
       "3                                    90.0  0.358751  False   \n",
       "4                                    46.0  0.325000  False   \n",
       "\n",
       "  % Impagado Actual Vdo Importe Impagado Actual Importe Cobrado  \n",
       "0              0.000000                     0.0          7993.9  \n",
       "1              0.850008                  4197.0           740.6  \n",
       "2              0.000000                     0.0          5343.6  \n",
       "3              0.000000                     0.0          3986.6  \n",
       "4              0.000000                     0.0          5062.7  \n",
       "\n",
       "[5 rows x 30 columns]"
      ]
     },
     "execution_count": 6,
     "metadata": {},
     "output_type": "execute_result"
    }
   ],
   "source": [
    "df_convo_deuda.head()"
   ]
  },
  {
   "cell_type": "code",
   "execution_count": 7,
   "id": "99216f44",
   "metadata": {},
   "outputs": [
    {
     "data": {
      "text/plain": [
       "Index(['DIA CERO', 'FECHA PRODUCCIÓN', 'ID PROGRAMA', 'PRECIO CURSO',\n",
       "       'FACTURACIÓN NETA', 'IMPORTE INSCRIPCIÓN', '% INSCRIPCION',\n",
       "       'MEDIO PAGO PI', 'IMPORTE PENDIENTE PAGO',\n",
       "       'MEDIO PAGO IMPORTE PENDIENTE', 'NUMERO DE CUOTAS', 'FECHA 1ra CUOTA',\n",
       "       'FORMA DE PAGO', 'ASESOR', 'FECHA 1ra CUOTA ORIGINAL',\n",
       "       'FORMA DE PAGO ORIGINAL', 'TIPO PROGRAMA', 'NACIONALIDAD',\n",
       "       'PAÍS DE RESIDENCIA', 'AGRUPACION NACIONALIDAD',\n",
       "       'AGRUPACION PAÍS DE RESIDENCIA', 'MANTIENE MEDIO PAGO',\n",
       "       'DIFERENCIA PI vs. IMPORTE PTE',\n",
       "       'DIFERENCIA FECHA 1ra CUOTA - ORIGINAL',\n",
       "       'DIFERENCIA FECHA PRODUCCIÓN - 1ra CUOTA', '% DTO', 'Moroso',\n",
       "       '% Impagado Actual Vdo', 'Importe Impagado Actual', 'Importe Cobrado'],\n",
       "      dtype='object')"
      ]
     },
     "execution_count": 7,
     "metadata": {},
     "output_type": "execute_result"
    }
   ],
   "source": [
    "df_convo_deuda.columns"
   ]
  },
  {
   "cell_type": "code",
   "execution_count": 8,
   "id": "671f5db5",
   "metadata": {},
   "outputs": [
    {
     "name": "stdout",
     "output_type": "stream",
     "text": [
      "<class 'pandas.core.frame.DataFrame'>\n",
      "RangeIndex: 2595 entries, 0 to 2594\n",
      "Data columns (total 30 columns):\n",
      " #   Column                                   Non-Null Count  Dtype   \n",
      "---  ------                                   --------------  -----   \n",
      " 0   DIA CERO                                 2595 non-null   category\n",
      " 1   FECHA PRODUCCIÓN                         2595 non-null   object  \n",
      " 2   ID PROGRAMA                              2595 non-null   category\n",
      " 3   PRECIO CURSO                             2595 non-null   float64 \n",
      " 4   FACTURACIÓN NETA                         2595 non-null   float64 \n",
      " 5   IMPORTE INSCRIPCIÓN                      2595 non-null   float64 \n",
      " 6   % INSCRIPCION                            2595 non-null   float64 \n",
      " 7   MEDIO PAGO PI                            2595 non-null   category\n",
      " 8   IMPORTE PENDIENTE PAGO                   2595 non-null   float64 \n",
      " 9   MEDIO PAGO IMPORTE PENDIENTE             2595 non-null   category\n",
      " 10  NUMERO DE CUOTAS                         2595 non-null   int64   \n",
      " 11  FECHA 1ra CUOTA                          2515 non-null   object  \n",
      " 12  FORMA DE PAGO                            2595 non-null   category\n",
      " 13  ASESOR                                   2595 non-null   category\n",
      " 14  FECHA 1ra CUOTA ORIGINAL                 2521 non-null   object  \n",
      " 15  FORMA DE PAGO ORIGINAL                   2595 non-null   category\n",
      " 16  TIPO PROGRAMA                            2595 non-null   category\n",
      " 17  NACIONALIDAD                             2592 non-null   category\n",
      " 18  PAÍS DE RESIDENCIA                       2595 non-null   category\n",
      " 19  AGRUPACION NACIONALIDAD                  2592 non-null   category\n",
      " 20  AGRUPACION PAÍS DE RESIDENCIA            2595 non-null   category\n",
      " 21  MANTIENE MEDIO PAGO                      2595 non-null   category\n",
      " 22  DIFERENCIA PI vs. IMPORTE PTE            2595 non-null   category\n",
      " 23  DIFERENCIA FECHA 1ra CUOTA - ORIGINAL    2595 non-null   float64 \n",
      " 24  DIFERENCIA FECHA PRODUCCIÓN - 1ra CUOTA  2595 non-null   float64 \n",
      " 25  % DTO                                    2595 non-null   float64 \n",
      " 26  Moroso                                   2595 non-null   category\n",
      " 27  % Impagado Actual Vdo                    2595 non-null   float64 \n",
      " 28  Importe Impagado Actual                  2595 non-null   float64 \n",
      " 29  Importe Cobrado                          2595 non-null   float64 \n",
      "dtypes: category(15), float64(11), int64(1), object(3)\n",
      "memory usage: 353.5+ KB\n"
     ]
    }
   ],
   "source": [
    "df_convo_deuda.info()"
   ]
  },
  {
   "cell_type": "code",
   "execution_count": 9,
   "id": "75c7e6d6",
   "metadata": {},
   "outputs": [
    {
     "data": {
      "application/vnd.microsoft.datawrangler.viewer.v0+json": {
       "columns": [
        {
         "name": "index",
         "rawType": "object",
         "type": "string"
        },
        {
         "name": "PRECIO CURSO",
         "rawType": "float64",
         "type": "float"
        },
        {
         "name": "FACTURACIÓN NETA",
         "rawType": "float64",
         "type": "float"
        },
        {
         "name": "IMPORTE INSCRIPCIÓN",
         "rawType": "float64",
         "type": "float"
        },
        {
         "name": "% INSCRIPCION",
         "rawType": "float64",
         "type": "float"
        },
        {
         "name": "IMPORTE PENDIENTE PAGO",
         "rawType": "float64",
         "type": "float"
        },
        {
         "name": "NUMERO DE CUOTAS",
         "rawType": "float64",
         "type": "float"
        },
        {
         "name": "DIFERENCIA FECHA 1ra CUOTA - ORIGINAL",
         "rawType": "float64",
         "type": "float"
        },
        {
         "name": "DIFERENCIA FECHA PRODUCCIÓN - 1ra CUOTA",
         "rawType": "float64",
         "type": "float"
        },
        {
         "name": "% DTO",
         "rawType": "float64",
         "type": "float"
        },
        {
         "name": "% Impagado Actual Vdo",
         "rawType": "float64",
         "type": "float"
        },
        {
         "name": "Importe Impagado Actual",
         "rawType": "float64",
         "type": "float"
        },
        {
         "name": "Importe Cobrado",
         "rawType": "float64",
         "type": "float"
        }
       ],
       "ref": "91e0e3f4-4d75-4bd5-bb2d-0da0cf23b61b",
       "rows": [
        [
         "count",
         "2595.0",
         "2595.0",
         "2595.0",
         "2595.0",
         "2595.0",
         "2595.0",
         "2595.0",
         "2595.0",
         "2595.0",
         "2595.0",
         "2595.0",
         "2595.0"
        ],
        [
         "mean",
         "8201.811175337187",
         "5413.660440462428",
         "1002.5123159922929",
         "0.18831674835360732",
         "4411.148124470135",
         "10.24431599229287",
         "1.6955684007707128",
         "62.25356454720617",
         "0.3363743296581424",
         "0.08819393945330088",
         "450.73749518304425",
         "4611.8350289017335"
        ],
        [
         "std",
         "1903.907993227449",
         "1141.6439996775448",
         "831.0128267449094",
         "0.15407821997070584",
         "1316.0234659427442",
         "5.569879331502313",
         "15.093150741982402",
         "68.77368143207742",
         "0.052015820060329176",
         "0.22845364036264834",
         "1245.2307641244731",
         "1770.518386710944"
        ],
        [
         "min",
         "7500.0",
         "1749.75",
         "0.0",
         "0.0",
         "-9.094947017729282e-13",
         "0.0",
         "-122.0",
         "-316.0",
         "0.0",
         "0.0",
         "0.0",
         "0.0"
        ],
        [
         "25%",
         "7500.0",
         "4809.37",
         "730.77",
         "0.149999476144126",
         "4052.6949999999997",
         "5.5",
         "0.0",
         "20.0",
         "0.29889999999999994",
         "0.0",
         "0.0",
         "4206.150000000001"
        ],
        [
         "50%",
         "7500.0",
         "5076.56",
         "800.99",
         "0.150000480653689",
         "4285.91",
         "12.0",
         "0.0",
         "35.0",
         "0.3349999999999999",
         "0.0",
         "0.0",
         "4809.4"
        ],
        [
         "75%",
         "7700.0",
         "5347.33",
         "1000.425",
         "0.1999991682902334",
         "4542.1900000000005",
         "14.0",
         "0.0",
         "90.0",
         "0.374568",
         "0.0",
         "0.0",
         "5212.199999999999"
        ],
        [
         "max",
         "13900.0",
         "13900.0",
         "9771.7",
         "1.0000000000000002",
         "11815.0",
         "21.0",
         "214.0",
         "1140.0",
         "0.7666999999999999",
         "1.0",
         "11997.3",
         "13900.100000000002"
        ]
       ],
       "shape": {
        "columns": 12,
        "rows": 8
       }
      },
      "text/html": [
       "<div>\n",
       "<style scoped>\n",
       "    .dataframe tbody tr th:only-of-type {\n",
       "        vertical-align: middle;\n",
       "    }\n",
       "\n",
       "    .dataframe tbody tr th {\n",
       "        vertical-align: top;\n",
       "    }\n",
       "\n",
       "    .dataframe thead th {\n",
       "        text-align: right;\n",
       "    }\n",
       "</style>\n",
       "<table border=\"1\" class=\"dataframe\">\n",
       "  <thead>\n",
       "    <tr style=\"text-align: right;\">\n",
       "      <th></th>\n",
       "      <th>PRECIO CURSO</th>\n",
       "      <th>FACTURACIÓN NETA</th>\n",
       "      <th>IMPORTE INSCRIPCIÓN</th>\n",
       "      <th>% INSCRIPCION</th>\n",
       "      <th>IMPORTE PENDIENTE PAGO</th>\n",
       "      <th>NUMERO DE CUOTAS</th>\n",
       "      <th>DIFERENCIA FECHA 1ra CUOTA - ORIGINAL</th>\n",
       "      <th>DIFERENCIA FECHA PRODUCCIÓN - 1ra CUOTA</th>\n",
       "      <th>% DTO</th>\n",
       "      <th>% Impagado Actual Vdo</th>\n",
       "      <th>Importe Impagado Actual</th>\n",
       "      <th>Importe Cobrado</th>\n",
       "    </tr>\n",
       "  </thead>\n",
       "  <tbody>\n",
       "    <tr>\n",
       "      <th>count</th>\n",
       "      <td>2595.000000</td>\n",
       "      <td>2595.00000</td>\n",
       "      <td>2595.000000</td>\n",
       "      <td>2595.000000</td>\n",
       "      <td>2.595000e+03</td>\n",
       "      <td>2595.000000</td>\n",
       "      <td>2595.000000</td>\n",
       "      <td>2595.000000</td>\n",
       "      <td>2595.000000</td>\n",
       "      <td>2595.000000</td>\n",
       "      <td>2595.000000</td>\n",
       "      <td>2595.000000</td>\n",
       "    </tr>\n",
       "    <tr>\n",
       "      <th>mean</th>\n",
       "      <td>8201.811175</td>\n",
       "      <td>5413.66044</td>\n",
       "      <td>1002.512316</td>\n",
       "      <td>0.188317</td>\n",
       "      <td>4.411148e+03</td>\n",
       "      <td>10.244316</td>\n",
       "      <td>1.695568</td>\n",
       "      <td>62.253565</td>\n",
       "      <td>0.336374</td>\n",
       "      <td>0.088194</td>\n",
       "      <td>450.737495</td>\n",
       "      <td>4611.835029</td>\n",
       "    </tr>\n",
       "    <tr>\n",
       "      <th>std</th>\n",
       "      <td>1903.907993</td>\n",
       "      <td>1141.64400</td>\n",
       "      <td>831.012827</td>\n",
       "      <td>0.154078</td>\n",
       "      <td>1.316023e+03</td>\n",
       "      <td>5.569879</td>\n",
       "      <td>15.093151</td>\n",
       "      <td>68.773681</td>\n",
       "      <td>0.052016</td>\n",
       "      <td>0.228454</td>\n",
       "      <td>1245.230764</td>\n",
       "      <td>1770.518387</td>\n",
       "    </tr>\n",
       "    <tr>\n",
       "      <th>min</th>\n",
       "      <td>7500.000000</td>\n",
       "      <td>1749.75000</td>\n",
       "      <td>0.000000</td>\n",
       "      <td>0.000000</td>\n",
       "      <td>-9.094947e-13</td>\n",
       "      <td>0.000000</td>\n",
       "      <td>-122.000000</td>\n",
       "      <td>-316.000000</td>\n",
       "      <td>0.000000</td>\n",
       "      <td>0.000000</td>\n",
       "      <td>0.000000</td>\n",
       "      <td>0.000000</td>\n",
       "    </tr>\n",
       "    <tr>\n",
       "      <th>25%</th>\n",
       "      <td>7500.000000</td>\n",
       "      <td>4809.37000</td>\n",
       "      <td>730.770000</td>\n",
       "      <td>0.149999</td>\n",
       "      <td>4.052695e+03</td>\n",
       "      <td>5.500000</td>\n",
       "      <td>0.000000</td>\n",
       "      <td>20.000000</td>\n",
       "      <td>0.298900</td>\n",
       "      <td>0.000000</td>\n",
       "      <td>0.000000</td>\n",
       "      <td>4206.150000</td>\n",
       "    </tr>\n",
       "    <tr>\n",
       "      <th>50%</th>\n",
       "      <td>7500.000000</td>\n",
       "      <td>5076.56000</td>\n",
       "      <td>800.990000</td>\n",
       "      <td>0.150000</td>\n",
       "      <td>4.285910e+03</td>\n",
       "      <td>12.000000</td>\n",
       "      <td>0.000000</td>\n",
       "      <td>35.000000</td>\n",
       "      <td>0.335000</td>\n",
       "      <td>0.000000</td>\n",
       "      <td>0.000000</td>\n",
       "      <td>4809.400000</td>\n",
       "    </tr>\n",
       "    <tr>\n",
       "      <th>75%</th>\n",
       "      <td>7700.000000</td>\n",
       "      <td>5347.33000</td>\n",
       "      <td>1000.425000</td>\n",
       "      <td>0.199999</td>\n",
       "      <td>4.542190e+03</td>\n",
       "      <td>14.000000</td>\n",
       "      <td>0.000000</td>\n",
       "      <td>90.000000</td>\n",
       "      <td>0.374568</td>\n",
       "      <td>0.000000</td>\n",
       "      <td>0.000000</td>\n",
       "      <td>5212.200000</td>\n",
       "    </tr>\n",
       "    <tr>\n",
       "      <th>max</th>\n",
       "      <td>13900.000000</td>\n",
       "      <td>13900.00000</td>\n",
       "      <td>9771.700000</td>\n",
       "      <td>1.000000</td>\n",
       "      <td>1.181500e+04</td>\n",
       "      <td>21.000000</td>\n",
       "      <td>214.000000</td>\n",
       "      <td>1140.000000</td>\n",
       "      <td>0.766700</td>\n",
       "      <td>1.000000</td>\n",
       "      <td>11997.300000</td>\n",
       "      <td>13900.100000</td>\n",
       "    </tr>\n",
       "  </tbody>\n",
       "</table>\n",
       "</div>"
      ],
      "text/plain": [
       "       PRECIO CURSO  FACTURACIÓN NETA  IMPORTE INSCRIPCIÓN  % INSCRIPCION  \\\n",
       "count   2595.000000        2595.00000          2595.000000    2595.000000   \n",
       "mean    8201.811175        5413.66044          1002.512316       0.188317   \n",
       "std     1903.907993        1141.64400           831.012827       0.154078   \n",
       "min     7500.000000        1749.75000             0.000000       0.000000   \n",
       "25%     7500.000000        4809.37000           730.770000       0.149999   \n",
       "50%     7500.000000        5076.56000           800.990000       0.150000   \n",
       "75%     7700.000000        5347.33000          1000.425000       0.199999   \n",
       "max    13900.000000       13900.00000          9771.700000       1.000000   \n",
       "\n",
       "       IMPORTE PENDIENTE PAGO  NUMERO DE CUOTAS  \\\n",
       "count            2.595000e+03       2595.000000   \n",
       "mean             4.411148e+03         10.244316   \n",
       "std              1.316023e+03          5.569879   \n",
       "min             -9.094947e-13          0.000000   \n",
       "25%              4.052695e+03          5.500000   \n",
       "50%              4.285910e+03         12.000000   \n",
       "75%              4.542190e+03         14.000000   \n",
       "max              1.181500e+04         21.000000   \n",
       "\n",
       "       DIFERENCIA FECHA 1ra CUOTA - ORIGINAL  \\\n",
       "count                            2595.000000   \n",
       "mean                                1.695568   \n",
       "std                                15.093151   \n",
       "min                              -122.000000   \n",
       "25%                                 0.000000   \n",
       "50%                                 0.000000   \n",
       "75%                                 0.000000   \n",
       "max                               214.000000   \n",
       "\n",
       "       DIFERENCIA FECHA PRODUCCIÓN - 1ra CUOTA        % DTO  \\\n",
       "count                              2595.000000  2595.000000   \n",
       "mean                                 62.253565     0.336374   \n",
       "std                                  68.773681     0.052016   \n",
       "min                                -316.000000     0.000000   \n",
       "25%                                  20.000000     0.298900   \n",
       "50%                                  35.000000     0.335000   \n",
       "75%                                  90.000000     0.374568   \n",
       "max                                1140.000000     0.766700   \n",
       "\n",
       "       % Impagado Actual Vdo  Importe Impagado Actual  Importe Cobrado  \n",
       "count            2595.000000              2595.000000      2595.000000  \n",
       "mean                0.088194               450.737495      4611.835029  \n",
       "std                 0.228454              1245.230764      1770.518387  \n",
       "min                 0.000000                 0.000000         0.000000  \n",
       "25%                 0.000000                 0.000000      4206.150000  \n",
       "50%                 0.000000                 0.000000      4809.400000  \n",
       "75%                 0.000000                 0.000000      5212.200000  \n",
       "max                 1.000000             11997.300000     13900.100000  "
      ]
     },
     "execution_count": 9,
     "metadata": {},
     "output_type": "execute_result"
    }
   ],
   "source": [
    "df_convo_deuda.describe()"
   ]
  },
  {
   "cell_type": "code",
   "execution_count": 10,
   "id": "88b87ff1",
   "metadata": {},
   "outputs": [
    {
     "data": {
      "text/plain": [
       "Index(['DIA CERO', 'FECHA PRODUCCIÓN', 'ID PROGRAMA', 'PRECIO CURSO',\n",
       "       'FACTURACIÓN NETA', 'IMPORTE INSCRIPCIÓN', '% INSCRIPCION',\n",
       "       'MEDIO PAGO PI', 'IMPORTE PENDIENTE PAGO',\n",
       "       'MEDIO PAGO IMPORTE PENDIENTE', 'NUMERO DE CUOTAS', 'FECHA 1ra CUOTA',\n",
       "       'FORMA DE PAGO', 'ASESOR', 'FECHA 1ra CUOTA ORIGINAL',\n",
       "       'FORMA DE PAGO ORIGINAL', 'TIPO PROGRAMA', 'NACIONALIDAD',\n",
       "       'PAÍS DE RESIDENCIA', 'AGRUPACION NACIONALIDAD',\n",
       "       'AGRUPACION PAÍS DE RESIDENCIA', 'MANTIENE MEDIO PAGO',\n",
       "       'DIFERENCIA PI vs. IMPORTE PTE',\n",
       "       'DIFERENCIA FECHA 1ra CUOTA - ORIGINAL',\n",
       "       'DIFERENCIA FECHA PRODUCCIÓN - 1ra CUOTA', '% DTO', 'Moroso',\n",
       "       '% Impagado Actual Vdo', 'Importe Impagado Actual', 'Importe Cobrado'],\n",
       "      dtype='object')"
      ]
     },
     "execution_count": 10,
     "metadata": {},
     "output_type": "execute_result"
    }
   ],
   "source": [
    "df_convo_deuda.columns"
   ]
  },
  {
   "cell_type": "code",
   "execution_count": 11,
   "id": "620a6b53",
   "metadata": {},
   "outputs": [
    {
     "data": {
      "application/vnd.microsoft.datawrangler.viewer.v0+json": {
       "columns": [
        {
         "name": "Moroso",
         "rawType": "category",
         "type": "unknown"
        },
        {
         "name": "count",
         "rawType": "int64",
         "type": "integer"
        }
       ],
       "ref": "db683758-d616-40aa-ba9c-f40a0fb051fa",
       "rows": [
        [
         "False",
         "2104"
        ],
        [
         "True",
         "491"
        ]
       ],
       "shape": {
        "columns": 1,
        "rows": 2
       }
      },
      "text/plain": [
       "Moroso\n",
       "False    2104\n",
       "True      491\n",
       "Name: count, dtype: int64"
      ]
     },
     "execution_count": 11,
     "metadata": {},
     "output_type": "execute_result"
    }
   ],
   "source": [
    "#Número de observación de cada categoría de la variable de interés.\n",
    "df_convo_deuda['Moroso'].value_counts()"
   ]
  },
  {
   "cell_type": "code",
   "execution_count": 12,
   "id": "fe6973d9",
   "metadata": {},
   "outputs": [
    {
     "name": "stdout",
     "output_type": "stream",
     "text": [
      "El porcentaje de morosidad de la muestra es del 18.9%.\n",
      "Esto supone que aún no se han cobrado 1169664.0€ del total que ya debería estar ingresado,\n",
      "es decir, un 8.9% de los que se debería haber pagado\n"
     ]
    }
   ],
   "source": [
    "porcentaje_moroso = len(\n",
    "    df_convo_deuda[df_convo_deuda['Moroso']==True]\n",
    "    )/len(\n",
    "        df_convo_deuda)*100\n",
    "print (f'El porcentaje de morosidad de la muestra es del {round(porcentaje_moroso, 1)}%.')\n",
    "porcentaje_impago = round(\n",
    "    df_convo_deuda['Importe Impagado Actual'].sum()\n",
    "    /(df_convo_deuda['Importe Impagado Actual'].sum()\n",
    "      + df_convo_deuda['Importe Cobrado'].sum())\n",
    "      *100,\n",
    "      2)\n",
    "print (f'''Esto supone que aún no se han cobrado {round(df_convo_deuda['Importe Impagado Actual'].sum(),0)}€ del total que ya debería estar ingresado,\n",
    "es decir, un {porcentaje_impago}% de los que se debería haber pagado''')"
   ]
  },
  {
   "cell_type": "code",
   "execution_count": 13,
   "id": "d53bfa0f",
   "metadata": {},
   "outputs": [
    {
     "data": {
      "application/vnd.microsoft.datawrangler.viewer.v0+json": {
       "columns": [
        {
         "name": "Moroso",
         "rawType": "category",
         "type": "unknown"
        },
        {
         "name": "Frecuencia",
         "rawType": "int64",
         "type": "integer"
        },
        {
         "name": "% del total",
         "rawType": "float64",
         "type": "float"
        },
        {
         "name": "Importe Impagado Promedio",
         "rawType": "float64",
         "type": "float"
        },
        {
         "name": "% Impagado Promedio",
         "rawType": "float64",
         "type": "float"
        },
        {
         "name": "Nº Cuotas Promedio",
         "rawType": "float64",
         "type": "float"
        }
       ],
       "ref": "7956db3d-fe82-468c-9e65-abf98defbb03",
       "rows": [
        [
         "False",
         "2104",
         "81.07899807321772",
         "0.0",
         "0.0",
         "9.740494296577946"
        ],
        [
         "True",
         "491",
         "18.921001926782274",
         "2382.20733197556",
         "0.4661166453794619",
         "12.40325865580448"
        ]
       ],
       "shape": {
        "columns": 5,
        "rows": 2
       }
      },
      "text/html": [
       "<div>\n",
       "<style scoped>\n",
       "    .dataframe tbody tr th:only-of-type {\n",
       "        vertical-align: middle;\n",
       "    }\n",
       "\n",
       "    .dataframe tbody tr th {\n",
       "        vertical-align: top;\n",
       "    }\n",
       "\n",
       "    .dataframe thead th {\n",
       "        text-align: right;\n",
       "    }\n",
       "</style>\n",
       "<table border=\"1\" class=\"dataframe\">\n",
       "  <thead>\n",
       "    <tr style=\"text-align: right;\">\n",
       "      <th></th>\n",
       "      <th>Frecuencia</th>\n",
       "      <th>% del total</th>\n",
       "      <th>Importe Impagado Promedio</th>\n",
       "      <th>% Impagado Promedio</th>\n",
       "      <th>Nº Cuotas Promedio</th>\n",
       "    </tr>\n",
       "    <tr>\n",
       "      <th>Moroso</th>\n",
       "      <th></th>\n",
       "      <th></th>\n",
       "      <th></th>\n",
       "      <th></th>\n",
       "      <th></th>\n",
       "    </tr>\n",
       "  </thead>\n",
       "  <tbody>\n",
       "    <tr>\n",
       "      <th>False</th>\n",
       "      <td>2104</td>\n",
       "      <td>81.078998</td>\n",
       "      <td>0.000000</td>\n",
       "      <td>0.000000</td>\n",
       "      <td>9.740494</td>\n",
       "    </tr>\n",
       "    <tr>\n",
       "      <th>True</th>\n",
       "      <td>491</td>\n",
       "      <td>18.921002</td>\n",
       "      <td>2382.207332</td>\n",
       "      <td>0.466117</td>\n",
       "      <td>12.403259</td>\n",
       "    </tr>\n",
       "  </tbody>\n",
       "</table>\n",
       "</div>"
      ],
      "text/plain": [
       "        Frecuencia  % del total  Importe Impagado Promedio  \\\n",
       "Moroso                                                       \n",
       "False         2104    81.078998                   0.000000   \n",
       "True           491    18.921002                2382.207332   \n",
       "\n",
       "        % Impagado Promedio  Nº Cuotas Promedio  \n",
       "Moroso                                           \n",
       "False              0.000000            9.740494  \n",
       "True               0.466117           12.403259  "
      ]
     },
     "execution_count": 13,
     "metadata": {},
     "output_type": "execute_result"
    }
   ],
   "source": [
    "resumen_morosidad = analisis_basico_morosidad(df_convo_deuda)\n",
    "resumen_morosidad\n"
   ]
  },
  {
   "cell_type": "markdown",
   "id": "6bee0749",
   "metadata": {},
   "source": [
    "+ Los morosos presentan una deuda promedio de más de 2.300 € y dejan sin pagar casi la mitad de lo que vencen.\n",
    "\n",
    "+ Además, suelen estar asociados a contratos con más cuotas, lo que podría reflejar mayor riesgo en préstamos más largos."
   ]
  },
  {
   "cell_type": "markdown",
   "id": "b23a442c",
   "metadata": {},
   "source": [
    "## Hipótesis 1: Relación entre el % de Pago inicial (PI) y el importe imagado vencido"
   ]
  },
  {
   "cell_type": "code",
   "execution_count": 14,
   "id": "d3c35e0d",
   "metadata": {},
   "outputs": [
    {
     "name": "stdout",
     "output_type": "stream",
     "text": [
      "✅ Gráfico guardado en ..\\reports\\01_distribucion_impago_segun_pi.jpg\n"
     ]
    },
    {
     "data": {
      "image/png": "[encoded data removed]",
      "text/plain": [
       "<Figure size 1400x600 with 1 Axes>"
      ]
     },
     "metadata": {},
     "output_type": "display_data"
    }
   ],
   "source": [
    "df_result = plot_facturacion(df_convo_deuda, os.path.join(path_reports, '01_distribucion_impago_segun_pi.jpg'))"
   ]
  },
  {
   "cell_type": "markdown",
   "id": "92629ade",
   "metadata": {},
   "source": [
    "La mayor parte de la facturación y del riesgo de impago se concentra en inscripciones con pagos iniciales bajos (10%–20%), especialmente en el 13–15%. El importe cobrado domina el gráfico, pero esos tramos también concentran los impagos y pendientes, lo que sugiere que son los segmentos críticos a analizar en profundidad (posible riesgo de clientes con baja entrada inicial)."
   ]
  },
  {
   "cell_type": "code",
   "execution_count": 15,
   "id": "d7c0d346",
   "metadata": {},
   "outputs": [
    {
     "name": "stdout",
     "output_type": "stream",
     "text": [
      "✅ Gráfico guardado en ..\\reports\\02_distribucion_impago_segun_pi_100.jpg\n"
     ]
    },
    {
     "data": {
      "image/png": "[encoded data removed]",
      "text/plain": [
       "<Figure size 1400x600 with 1 Axes>"
      ]
     },
     "metadata": {},
     "output_type": "display_data"
    }
   ],
   "source": [
    "df_result_prop = plot_facturacion_prop(df_convo_deuda, output_path=os.path.join(path_reports, \"02_distribucion_impago_segun_pi_100.jpg\"))\n"
   ]
  },
  {
   "cell_type": "markdown",
   "id": "8db40c99",
   "metadata": {},
   "source": [
    "Normalizando las diferencias de volume, se pone en evidencia que los problemas de impago están focalizados en los tramos de inscripción baja, mientras que los tramos altos muestran casi total seguridad de cobro."
   ]
  },
  {
   "cell_type": "code",
   "execution_count": 16,
   "id": "a0de9870",
   "metadata": {},
   "outputs": [
    {
     "name": "stdout",
     "output_type": "stream",
     "text": [
      "✅ Gráfico guardado en ..\\reports\\03_distribucion_impago_segun_pi_agrupado.jpg\n"
     ]
    },
    {
     "data": {
      "image/png": "[encoded data removed]",
      "text/plain": [
       "<Figure size 1400x600 with 1 Axes>"
      ]
     },
     "metadata": {},
     "output_type": "display_data"
    }
   ],
   "source": [
    "df_result_agg = plot_facturacion_custom(df_convo_deuda,agrupar_tramo, \n",
    "                                        output_path=os.path.join(path_reports, \"03_distribucion_impago_segun_pi_agrupado.jpg\"))"
   ]
  },
  {
   "cell_type": "code",
   "execution_count": 17,
   "id": "1660993f",
   "metadata": {},
   "outputs": [
    {
     "name": "stdout",
     "output_type": "stream",
     "text": [
      "✅ Gráfico guardado en ..\\reports\\04_distribucion_impago_segun_pi_agrupado_2.jpg\n"
     ]
    },
    {
     "data": {
      "image/png": "[encoded data removed]",
      "text/plain": [
       "<Figure size 1400x600 with 1 Axes>"
      ]
     },
     "metadata": {},
     "output_type": "display_data"
    }
   ],
   "source": [
    "df_result_agg_2 = plot_facturacion_custom(df_convo_deuda,agrupar_tramo_2, \n",
    "                                          output_path=os.path.join(path_reports, \"04_distribucion_impago_segun_pi_agrupado_2.jpg\"),\n",
    "                                          orden=['0-5%', '6-10%', '11-13%', '21-30%', '31-50%', 'Resto']\n",
    "                                          )"
   ]
  },
  {
   "cell_type": "markdown",
   "id": "7ed23c2c",
   "metadata": {},
   "source": [
    "+ El mayor riesgo relativo está en las inscripciones entre 6% y 13% (donde el impago supera el 13%).\n",
    "\n",
    "+ El mayor riesgo absoluto en euros está en el grupo Resto (>50%), porque concentra muchísima facturación, aunque con un % de impago más bajo.\n",
    "\n",
    "+ Los tramos intermedios (21–50%) muestran menor riesgo tanto en importe como en proporción, pero su peso es pequeño en facturación."
   ]
  },
  {
   "cell_type": "markdown",
   "id": "ec230ce3",
   "metadata": {},
   "source": [
    "## Análisis estadístico"
   ]
  },
  {
   "cell_type": "markdown",
   "id": "012f9543",
   "metadata": {},
   "source": [
    "### Relación entre las variables categóricas y la Morosidad"
   ]
  },
  {
   "cell_type": "code",
   "execution_count": 18,
   "id": "483e94d8",
   "metadata": {},
   "outputs": [
    {
     "name": "stdout",
     "output_type": "stream",
     "text": [
      "****************************************************************************************************\n",
      "10 de las 14 variables categóricas son significativas para Moroso (α=0.05)\n",
      "Ordenadas según su fuerza de asociación por el estadístico V de Cramer:\n"
     ]
    },
    {
     "data": {
      "application/vnd.microsoft.datawrangler.viewer.v0+json": {
       "columns": [
        {
         "name": "index",
         "rawType": "int64",
         "type": "integer"
        },
        {
         "name": "var1",
         "rawType": "object",
         "type": "string"
        },
        {
         "name": "var2",
         "rawType": "object",
         "type": "string"
        },
        {
         "name": "chi2",
         "rawType": "float64",
         "type": "float"
        },
        {
         "name": "p",
         "rawType": "float64",
         "type": "float"
        },
        {
         "name": "V",
         "rawType": "float64",
         "type": "float"
        }
       ],
       "ref": "d8e06e5e-be55-4072-8396-796ab0e07f47",
       "rows": [
        [
         "9",
         "PAÍS DE RESIDENCIA",
         "Moroso",
         "115.30623391773855",
         "2.339521437500215e-05",
         "0.21079374162845974"
        ],
        [
         "4",
         "FORMA DE PAGO",
         "Moroso",
         "108.55456926345963",
         "2.2458758275243028e-23",
         "0.20452922518576755"
        ],
        [
         "8",
         "NACIONALIDAD",
         "Moroso",
         "91.26545714399587",
         "0.003467575019443304",
         "0.187644447594277"
        ],
        [
         "6",
         "FORMA DE PAGO ORIGINAL",
         "Moroso",
         "82.82711193218546",
         "2.1479879224183066e-16",
         "0.17865598844968694"
        ],
        [
         "2",
         "MEDIO PAGO PI",
         "Moroso",
         "63.07231118038258",
         "3.415908663307131e-10",
         "0.15590164279925897"
        ],
        [
         "11",
         "AGRUPACION PAÍS DE RESIDENCIA",
         "Moroso",
         "55.64157334380539",
         "2.3959261491165028e-08",
         "0.14643032281206653"
        ],
        [
         "3",
         "MEDIO PAGO IMPORTE PENDIENTE",
         "Moroso",
         "39.96181542037904",
         "4.4078449709173134e-08",
         "0.1240948972141761"
        ],
        [
         "10",
         "AGRUPACION NACIONALIDAD",
         "Moroso",
         "36.77550885096682",
         "6.188313803511568e-05",
         "0.1191137360610797"
        ],
        [
         "12",
         "MANTIENE MEDIO PAGO",
         "Moroso",
         "25.74573159828245",
         "3.8948746851923443e-07",
         "0.0996056416720593"
        ],
        [
         "13",
         "DIFERENCIA PI vs. IMPORTE PTE",
         "Moroso",
         "25.74573159828245",
         "3.8948746851923443e-07",
         "0.0996056416720593"
        ]
       ],
       "shape": {
        "columns": 5,
        "rows": 10
       }
      },
      "text/html": [
       "<div>\n",
       "<style scoped>\n",
       "    .dataframe tbody tr th:only-of-type {\n",
       "        vertical-align: middle;\n",
       "    }\n",
       "\n",
       "    .dataframe tbody tr th {\n",
       "        vertical-align: top;\n",
       "    }\n",
       "\n",
       "    .dataframe thead th {\n",
       "        text-align: right;\n",
       "    }\n",
       "</style>\n",
       "<table border=\"1\" class=\"dataframe\">\n",
       "  <thead>\n",
       "    <tr style=\"text-align: right;\">\n",
       "      <th></th>\n",
       "      <th>var1</th>\n",
       "      <th>var2</th>\n",
       "      <th>chi2</th>\n",
       "      <th>p</th>\n",
       "      <th>V</th>\n",
       "    </tr>\n",
       "  </thead>\n",
       "  <tbody>\n",
       "    <tr>\n",
       "      <th>9</th>\n",
       "      <td>PAÍS DE RESIDENCIA</td>\n",
       "      <td>Moroso</td>\n",
       "      <td>115.306234</td>\n",
       "      <td>2.339521e-05</td>\n",
       "      <td>0.210794</td>\n",
       "    </tr>\n",
       "    <tr>\n",
       "      <th>4</th>\n",
       "      <td>FORMA DE PAGO</td>\n",
       "      <td>Moroso</td>\n",
       "      <td>108.554569</td>\n",
       "      <td>2.245876e-23</td>\n",
       "      <td>0.204529</td>\n",
       "    </tr>\n",
       "    <tr>\n",
       "      <th>8</th>\n",
       "      <td>NACIONALIDAD</td>\n",
       "      <td>Moroso</td>\n",
       "      <td>91.265457</td>\n",
       "      <td>3.467575e-03</td>\n",
       "      <td>0.187644</td>\n",
       "    </tr>\n",
       "    <tr>\n",
       "      <th>6</th>\n",
       "      <td>FORMA DE PAGO ORIGINAL</td>\n",
       "      <td>Moroso</td>\n",
       "      <td>82.827112</td>\n",
       "      <td>2.147988e-16</td>\n",
       "      <td>0.178656</td>\n",
       "    </tr>\n",
       "    <tr>\n",
       "      <th>2</th>\n",
       "      <td>MEDIO PAGO PI</td>\n",
       "      <td>Moroso</td>\n",
       "      <td>63.072311</td>\n",
       "      <td>3.415909e-10</td>\n",
       "      <td>0.155902</td>\n",
       "    </tr>\n",
       "    <tr>\n",
       "      <th>11</th>\n",
       "      <td>AGRUPACION PAÍS DE RESIDENCIA</td>\n",
       "      <td>Moroso</td>\n",
       "      <td>55.641573</td>\n",
       "      <td>2.395926e-08</td>\n",
       "      <td>0.146430</td>\n",
       "    </tr>\n",
       "    <tr>\n",
       "      <th>3</th>\n",
       "      <td>MEDIO PAGO IMPORTE PENDIENTE</td>\n",
       "      <td>Moroso</td>\n",
       "      <td>39.961815</td>\n",
       "      <td>4.407845e-08</td>\n",
       "      <td>0.124095</td>\n",
       "    </tr>\n",
       "    <tr>\n",
       "      <th>10</th>\n",
       "      <td>AGRUPACION NACIONALIDAD</td>\n",
       "      <td>Moroso</td>\n",
       "      <td>36.775509</td>\n",
       "      <td>6.188314e-05</td>\n",
       "      <td>0.119114</td>\n",
       "    </tr>\n",
       "    <tr>\n",
       "      <th>12</th>\n",
       "      <td>MANTIENE MEDIO PAGO</td>\n",
       "      <td>Moroso</td>\n",
       "      <td>25.745732</td>\n",
       "      <td>3.894875e-07</td>\n",
       "      <td>0.099606</td>\n",
       "    </tr>\n",
       "    <tr>\n",
       "      <th>13</th>\n",
       "      <td>DIFERENCIA PI vs. IMPORTE PTE</td>\n",
       "      <td>Moroso</td>\n",
       "      <td>25.745732</td>\n",
       "      <td>3.894875e-07</td>\n",
       "      <td>0.099606</td>\n",
       "    </tr>\n",
       "  </tbody>\n",
       "</table>\n",
       "</div>"
      ],
      "text/plain": [
       "                             var1    var2        chi2             p         V\n",
       "9              PAÍS DE RESIDENCIA  Moroso  115.306234  2.339521e-05  0.210794\n",
       "4                   FORMA DE PAGO  Moroso  108.554569  2.245876e-23  0.204529\n",
       "8                    NACIONALIDAD  Moroso   91.265457  3.467575e-03  0.187644\n",
       "6          FORMA DE PAGO ORIGINAL  Moroso   82.827112  2.147988e-16  0.178656\n",
       "2                   MEDIO PAGO PI  Moroso   63.072311  3.415909e-10  0.155902\n",
       "11  AGRUPACION PAÍS DE RESIDENCIA  Moroso   55.641573  2.395926e-08  0.146430\n",
       "3    MEDIO PAGO IMPORTE PENDIENTE  Moroso   39.961815  4.407845e-08  0.124095\n",
       "10        AGRUPACION NACIONALIDAD  Moroso   36.775509  6.188314e-05  0.119114\n",
       "12            MANTIENE MEDIO PAGO  Moroso   25.745732  3.894875e-07  0.099606\n",
       "13  DIFERENCIA PI vs. IMPORTE PTE  Moroso   25.745732  3.894875e-07  0.099606"
      ]
     },
     "metadata": {},
     "output_type": "display_data"
    },
    {
     "data": {
      "image/png": "[encoded data removed]",
      "text/plain": [
       "<Figure size 800x500 with 2 Axes>"
      ]
     },
     "metadata": {},
     "output_type": "display_data"
    },
    {
     "name": "stdout",
     "output_type": "stream",
     "text": [
      "✅ Gráficos guardados en ..\\reports\\05_correlacion_categoricas_morosidad.jpg\n"
     ]
    },
    {
     "data": {
      "text/plain": [
       "<Figure size 640x480 with 0 Axes>"
      ]
     },
     "metadata": {},
     "output_type": "display_data"
    }
   ],
   "source": [
    "df_relacion_categoricas = analizar_categoricas_vs_objetivo(\n",
    "    df_convo_deuda,\n",
    "      target_col=\"Moroso\",\n",
    "      output_path=os.path.join(path_reports, \"05_correlacion_categoricas_morosidad.jpg\"))\n"
   ]
  },
  {
   "cell_type": "markdown",
   "id": "535311ea",
   "metadata": {},
   "source": [
    "### Relación entre las variables numéricas y la Morosidad"
   ]
  },
  {
   "cell_type": "code",
   "execution_count": 19,
   "id": "b5a7e8f5",
   "metadata": {},
   "outputs": [
    {
     "name": "stdout",
     "output_type": "stream",
     "text": [
      "\n",
      "📊 Variable: PRECIO CURSO\n",
      "▶ PRUEBA DE NORMALIDAD (Shapiro-Wilk):\n",
      "  - Grupo False: p = 0.000 → No normal\n",
      "  - Grupo True: p = 0.000 → No normal\n",
      "▶ PRUEBA DE IGUALDAD DE VARIANZAS (Levene):\n",
      "  - p = 0.813 → Homogéneas varianzas\n",
      "▶ PRUEBA DE DIFERENCIAS ENTRE GRUPOS:\n",
      "  - Mann-Whitney U → p = 0.365\n",
      "No se encontraron diferencias significativas entre grupos según Mann-Whitney.\n",
      "\n",
      "📊 Variable: FACTURACIÓN NETA\n",
      "▶ PRUEBA DE NORMALIDAD (Shapiro-Wilk):\n",
      "  - Grupo False: p = 0.000 → No normal\n",
      "  - Grupo True: p = 0.000 → No normal\n",
      "▶ PRUEBA DE IGUALDAD DE VARIANZAS (Levene):\n",
      "  - p = 0.842 → Homogéneas varianzas\n",
      "▶ PRUEBA DE DIFERENCIAS ENTRE GRUPOS:\n",
      "  - Mann-Whitney U → p = 0.012\n",
      "Tamaño del efecto (r de Mann-Whitney): 0.049\n",
      "\n",
      "📊 Variable: IMPORTE INSCRIPCIÓN\n",
      "▶ PRUEBA DE NORMALIDAD (Shapiro-Wilk):\n",
      "  - Grupo False: p = 0.000 → No normal\n",
      "  - Grupo True: p = 0.000 → No normal\n",
      "▶ PRUEBA DE IGUALDAD DE VARIANZAS (Levene):\n",
      "  - p = 0.125 → Homogéneas varianzas\n",
      "▶ PRUEBA DE DIFERENCIAS ENTRE GRUPOS:\n",
      "  - Mann-Whitney U → p = 0.243\n",
      "No se encontraron diferencias significativas entre grupos según Mann-Whitney.\n",
      "\n",
      "📊 Variable: % INSCRIPCION\n",
      "▶ PRUEBA DE NORMALIDAD (Shapiro-Wilk):\n",
      "  - Grupo False: p = 0.000 → No normal\n",
      "  - Grupo True: p = 0.000 → No normal\n",
      "▶ PRUEBA DE IGUALDAD DE VARIANZAS (Levene):\n",
      "  - p = 0.166 → Homogéneas varianzas\n",
      "▶ PRUEBA DE DIFERENCIAS ENTRE GRUPOS:\n",
      "  - Mann-Whitney U → p = 0.001\n",
      "Tamaño del efecto (r de Mann-Whitney): 0.065\n",
      "\n",
      "📊 Variable: IMPORTE PENDIENTE PAGO\n",
      "▶ PRUEBA DE NORMALIDAD (Shapiro-Wilk):\n",
      "  - Grupo False: p = 0.000 → No normal\n",
      "  - Grupo True: p = 0.000 → No normal\n",
      "▶ PRUEBA DE IGUALDAD DE VARIANZAS (Levene):\n",
      "  - p = 0.354 → Homogéneas varianzas\n",
      "▶ PRUEBA DE DIFERENCIAS ENTRE GRUPOS:\n",
      "  - Mann-Whitney U → p = 0.000\n",
      "Tamaño del efecto (r de Mann-Whitney): 0.075\n",
      "\n",
      "📊 Variable: NUMERO DE CUOTAS\n",
      "▶ PRUEBA DE NORMALIDAD (Shapiro-Wilk):\n",
      "  - Grupo False: p = 0.000 → No normal\n",
      "  - Grupo True: p = 0.000 → No normal\n",
      "▶ PRUEBA DE IGUALDAD DE VARIANZAS (Levene):\n",
      "  - p = 0.000 → Diferentes varianzas\n",
      "▶ PRUEBA DE DIFERENCIAS ENTRE GRUPOS:\n",
      "  - Mann-Whitney U → p = 0.000\n",
      "Tamaño del efecto (r de Mann-Whitney): 0.139\n",
      "\n",
      "📊 Variable: DIFERENCIA FECHA 1ra CUOTA - ORIGINAL\n",
      "▶ PRUEBA DE NORMALIDAD (Shapiro-Wilk):\n",
      "  - Grupo False: p = 0.000 → No normal\n",
      "  - Grupo True: p = 0.000 → No normal\n",
      "▶ PRUEBA DE IGUALDAD DE VARIANZAS (Levene):\n",
      "  - p = 0.001 → Diferentes varianzas\n",
      "▶ PRUEBA DE DIFERENCIAS ENTRE GRUPOS:\n",
      "  - Mann-Whitney U → p = 0.039\n",
      "Tamaño del efecto (r de Mann-Whitney): 0.013\n",
      "\n",
      "📊 Variable: DIFERENCIA FECHA PRODUCCIÓN - 1ra CUOTA\n",
      "▶ PRUEBA DE NORMALIDAD (Shapiro-Wilk):\n",
      "  - Grupo False: p = 0.000 → No normal\n",
      "  - Grupo True: p = 0.000 → No normal\n",
      "▶ PRUEBA DE IGUALDAD DE VARIANZAS (Levene):\n",
      "  - p = 0.000 → Diferentes varianzas\n",
      "▶ PRUEBA DE DIFERENCIAS ENTRE GRUPOS:\n",
      "  - Mann-Whitney U → p = 0.000\n",
      "Tamaño del efecto (r de Mann-Whitney): 0.135\n",
      "\n",
      "📊 Variable: % DTO\n",
      "▶ PRUEBA DE NORMALIDAD (Shapiro-Wilk):\n",
      "  - Grupo False: p = 0.000 → No normal\n",
      "  - Grupo True: p = 0.001 → No normal\n",
      "▶ PRUEBA DE IGUALDAD DE VARIANZAS (Levene):\n",
      "  - p = 0.713 → Homogéneas varianzas\n",
      "▶ PRUEBA DE DIFERENCIAS ENTRE GRUPOS:\n",
      "  - Mann-Whitney U → p = 0.014\n",
      "Tamaño del efecto (r de Mann-Whitney): 0.048\n",
      "\n",
      "📊 Variable: Importe Cobrado\n",
      "▶ PRUEBA DE NORMALIDAD (Shapiro-Wilk):\n",
      "  - Grupo False: p = 0.000 → No normal\n",
      "  - Grupo True: p = 0.000 → No normal\n",
      "▶ PRUEBA DE IGUALDAD DE VARIANZAS (Levene):\n",
      "  - p = 0.000 → Diferentes varianzas\n",
      "▶ PRUEBA DE DIFERENCIAS ENTRE GRUPOS:\n",
      "  - Mann-Whitney U → p = 0.000\n",
      "Tamaño del efecto (r de Mann-Whitney): 0.548\n",
      "****************************************************************************************************\n",
      "8 de las 10 variables numéricas son significativas para Moroso (α=0.05)\n",
      "Ordenadas por tamaño del efecto:\n"
     ]
    },
    {
     "data": {
      "application/vnd.microsoft.datawrangler.viewer.v0+json": {
       "columns": [
        {
         "name": "index",
         "rawType": "int64",
         "type": "integer"
        },
        {
         "name": "col",
         "rawType": "object",
         "type": "string"
        },
        {
         "name": "p Shapiro-Wilk",
         "rawType": "float64",
         "type": "float"
        },
        {
         "name": "p Levene",
         "rawType": "float64",
         "type": "float"
        },
        {
         "name": "metodo",
         "rawType": "object",
         "type": "string"
        },
        {
         "name": "stat",
         "rawType": "float64",
         "type": "float"
        },
        {
         "name": "p_test",
         "rawType": "float64",
         "type": "float"
        },
        {
         "name": "effect_size",
         "rawType": "float64",
         "type": "float"
        }
       ],
       "ref": "6e3214ba-cf16-4e90-8dda-b173c0e30fa3",
       "rows": [
        [
         "9",
         "Importe Cobrado",
         "3.3336950758687416e-15",
         "5.4280485916099095e-28",
         "Mann-Whitney",
         "933575.0",
         "2.8768526226698408e-171",
         "0.5476294813293909"
        ],
        [
         "5",
         "NUMERO DE CUOTAS",
         "6.853391457890033e-29",
         "1.9166585148709615e-21",
         "Mann-Whitney",
         "410767.0",
         "4.697732998657991e-13",
         "0.13888263822388347"
        ],
        [
         "7",
         "DIFERENCIA FECHA PRODUCCIÓN - 1ra CUOTA",
         "2.2732345618024223e-24",
         "1.5271831750111421e-06",
         "Mann-Whitney",
         "413809.5",
         "6.319418237128966e-12",
         "0.13488745619962056"
        ],
        [
         "4",
         "IMPORTE PENDIENTE PAGO",
         "4.5032825901298645e-29",
         "0.3536211419157377",
         "Mann-Whitney",
         "459324.5",
         "0.00012962756494989646",
         "0.07512058361644035"
        ],
        [
         "3",
         "% INSCRIPCION",
         "4.81519988148654e-39",
         "0.1661074443625991",
         "Mann-Whitney",
         "566010.0",
         "0.0009289199606904736",
         "0.06497078593146416"
        ],
        [
         "1",
         "FACTURACIÓN NETA",
         "3.683034483566947e-30",
         "0.8416980364554889",
         "Mann-Whitney",
         "478981.0",
         "0.01194947098689801",
         "0.04930914714645722"
        ],
        [
         "8",
         "% DTO",
         "0.0006683326074748946",
         "0.7131113272842386",
         "Mann-Whitney",
         "553271.5",
         "0.013897003863144877",
         "0.04824354641919696"
        ],
        [
         "6",
         "DIFERENCIA FECHA 1ra CUOTA - ORIGINAL",
         "1.4960509118640597e-41",
         "0.0010169342675914",
         "Mann-Whitney",
         "506534.0",
         "0.0388311122733284",
         "0.013128621159763503"
        ]
       ],
       "shape": {
        "columns": 7,
        "rows": 8
       }
      },
      "text/html": [
       "<div>\n",
       "<style scoped>\n",
       "    .dataframe tbody tr th:only-of-type {\n",
       "        vertical-align: middle;\n",
       "    }\n",
       "\n",
       "    .dataframe tbody tr th {\n",
       "        vertical-align: top;\n",
       "    }\n",
       "\n",
       "    .dataframe thead th {\n",
       "        text-align: right;\n",
       "    }\n",
       "</style>\n",
       "<table border=\"1\" class=\"dataframe\">\n",
       "  <thead>\n",
       "    <tr style=\"text-align: right;\">\n",
       "      <th></th>\n",
       "      <th>col</th>\n",
       "      <th>p Shapiro-Wilk</th>\n",
       "      <th>p Levene</th>\n",
       "      <th>metodo</th>\n",
       "      <th>stat</th>\n",
       "      <th>p_test</th>\n",
       "      <th>effect_size</th>\n",
       "    </tr>\n",
       "  </thead>\n",
       "  <tbody>\n",
       "    <tr>\n",
       "      <th>9</th>\n",
       "      <td>Importe Cobrado</td>\n",
       "      <td>3.333695e-15</td>\n",
       "      <td>5.428049e-28</td>\n",
       "      <td>Mann-Whitney</td>\n",
       "      <td>933575.0</td>\n",
       "      <td>2.876853e-171</td>\n",
       "      <td>0.547629</td>\n",
       "    </tr>\n",
       "    <tr>\n",
       "      <th>5</th>\n",
       "      <td>NUMERO DE CUOTAS</td>\n",
       "      <td>6.853391e-29</td>\n",
       "      <td>1.916659e-21</td>\n",
       "      <td>Mann-Whitney</td>\n",
       "      <td>410767.0</td>\n",
       "      <td>4.697733e-13</td>\n",
       "      <td>0.138883</td>\n",
       "    </tr>\n",
       "    <tr>\n",
       "      <th>7</th>\n",
       "      <td>DIFERENCIA FECHA PRODUCCIÓN - 1ra CUOTA</td>\n",
       "      <td>2.273235e-24</td>\n",
       "      <td>1.527183e-06</td>\n",
       "      <td>Mann-Whitney</td>\n",
       "      <td>413809.5</td>\n",
       "      <td>6.319418e-12</td>\n",
       "      <td>0.134887</td>\n",
       "    </tr>\n",
       "    <tr>\n",
       "      <th>4</th>\n",
       "      <td>IMPORTE PENDIENTE PAGO</td>\n",
       "      <td>4.503283e-29</td>\n",
       "      <td>3.536211e-01</td>\n",
       "      <td>Mann-Whitney</td>\n",
       "      <td>459324.5</td>\n",
       "      <td>1.296276e-04</td>\n",
       "      <td>0.075121</td>\n",
       "    </tr>\n",
       "    <tr>\n",
       "      <th>3</th>\n",
       "      <td>% INSCRIPCION</td>\n",
       "      <td>4.815200e-39</td>\n",
       "      <td>1.661074e-01</td>\n",
       "      <td>Mann-Whitney</td>\n",
       "      <td>566010.0</td>\n",
       "      <td>9.289200e-04</td>\n",
       "      <td>0.064971</td>\n",
       "    </tr>\n",
       "    <tr>\n",
       "      <th>1</th>\n",
       "      <td>FACTURACIÓN NETA</td>\n",
       "      <td>3.683034e-30</td>\n",
       "      <td>8.416980e-01</td>\n",
       "      <td>Mann-Whitney</td>\n",
       "      <td>478981.0</td>\n",
       "      <td>1.194947e-02</td>\n",
       "      <td>0.049309</td>\n",
       "    </tr>\n",
       "    <tr>\n",
       "      <th>8</th>\n",
       "      <td>% DTO</td>\n",
       "      <td>6.683326e-04</td>\n",
       "      <td>7.131113e-01</td>\n",
       "      <td>Mann-Whitney</td>\n",
       "      <td>553271.5</td>\n",
       "      <td>1.389700e-02</td>\n",
       "      <td>0.048244</td>\n",
       "    </tr>\n",
       "    <tr>\n",
       "      <th>6</th>\n",
       "      <td>DIFERENCIA FECHA 1ra CUOTA - ORIGINAL</td>\n",
       "      <td>1.496051e-41</td>\n",
       "      <td>1.016934e-03</td>\n",
       "      <td>Mann-Whitney</td>\n",
       "      <td>506534.0</td>\n",
       "      <td>3.883111e-02</td>\n",
       "      <td>0.013129</td>\n",
       "    </tr>\n",
       "  </tbody>\n",
       "</table>\n",
       "</div>"
      ],
      "text/plain": [
       "                                       col  p Shapiro-Wilk      p Levene  \\\n",
       "9                          Importe Cobrado    3.333695e-15  5.428049e-28   \n",
       "5                         NUMERO DE CUOTAS    6.853391e-29  1.916659e-21   \n",
       "7  DIFERENCIA FECHA PRODUCCIÓN - 1ra CUOTA    2.273235e-24  1.527183e-06   \n",
       "4                   IMPORTE PENDIENTE PAGO    4.503283e-29  3.536211e-01   \n",
       "3                            % INSCRIPCION    4.815200e-39  1.661074e-01   \n",
       "1                         FACTURACIÓN NETA    3.683034e-30  8.416980e-01   \n",
       "8                                    % DTO    6.683326e-04  7.131113e-01   \n",
       "6    DIFERENCIA FECHA 1ra CUOTA - ORIGINAL    1.496051e-41  1.016934e-03   \n",
       "\n",
       "         metodo      stat         p_test  effect_size  \n",
       "9  Mann-Whitney  933575.0  2.876853e-171     0.547629  \n",
       "5  Mann-Whitney  410767.0   4.697733e-13     0.138883  \n",
       "7  Mann-Whitney  413809.5   6.319418e-12     0.134887  \n",
       "4  Mann-Whitney  459324.5   1.296276e-04     0.075121  \n",
       "3  Mann-Whitney  566010.0   9.289200e-04     0.064971  \n",
       "1  Mann-Whitney  478981.0   1.194947e-02     0.049309  \n",
       "8  Mann-Whitney  553271.5   1.389700e-02     0.048244  \n",
       "6  Mann-Whitney  506534.0   3.883111e-02     0.013129  "
      ]
     },
     "metadata": {},
     "output_type": "display_data"
    },
    {
     "data": {
      "image/png": "[encoded data removed]",
      "text/plain": [
       "<Figure size 800x400 with 2 Axes>"
      ]
     },
     "metadata": {},
     "output_type": "display_data"
    },
    {
     "name": "stdout",
     "output_type": "stream",
     "text": [
      "✅ Gráficos guardados en ..\\reports\\06_correlacion_numericas_morosidad.jpg\n"
     ]
    },
    {
     "data": {
      "text/plain": [
       "<Figure size 640x480 with 0 Axes>"
      ]
     },
     "metadata": {},
     "output_type": "display_data"
    }
   ],
   "source": [
    "df_relacion_numericas = analizar_numericas_vs_objetivo(\n",
    "    df_convo_deuda.drop(columns=['% Impagado Actual Vdo', 'Importe Impagado Actual']),\n",
    "      target_col=\"Moroso\",\n",
    "      output_path=os.path.join(path_reports, \"06_correlacion_numericas_morosidad.jpg\"))\n",
    "\n",
    "\n"
   ]
  },
  {
   "cell_type": "markdown",
   "id": "41799b44",
   "metadata": {},
   "source": [
    "### Boxplots"
   ]
  },
  {
   "cell_type": "code",
   "execution_count": 20,
   "id": "08a97ebb",
   "metadata": {},
   "outputs": [
    {
     "name": "stdout",
     "output_type": "stream",
     "text": [
      "✅ Gráficos guardados en ..\\reports\\07_boxplots.png\n"
     ]
    },
    {
     "data": {
      "image/png": "[encoded data removed]",
      "text/plain": [
       "<Figure size 1050x1000 with 12 Axes>"
      ]
     },
     "metadata": {},
     "output_type": "display_data"
    }
   ],
   "source": [
    "boxplots_numericas_vs_objetivo(\n",
    "    df_convo_deuda,\n",
    "    target_col=\"Moroso\",\n",
    "    output_path= os.path.join(path_reports,\"07_boxplots.png\"),\n",
    "    max_cols=3,\n",
    "    width=3.5,\n",
    "    height=2.5\n",
    ")\n",
    "\n"
   ]
  },
  {
   "cell_type": "markdown",
   "id": "467a38c5",
   "metadata": {},
   "source": [
    "Variables fuertemente asociadas con la morosidad:\n",
    "+ Importe pendiente de pago.\n",
    "+ % Impagado Actual Vdo.\n",
    "+ Importe impagado actual.\n",
    "+ Número de cuotas.\n",
    "\n",
    "Variables con posible relación más débil:\n",
    "+ % inscripción inicial (morosos pagan menos al inicio).\n",
    "+ Importe cobrado (más dispersión en morosos).\n",
    "\n",
    "Variables con poca o nula relación aparente:\n",
    "+ Precio curso, facturación neta, importe inscripción (similar en ambos grupos).\n",
    "+ % de descuento y diferencias de fechas."
   ]
  },
  {
   "cell_type": "markdown",
   "id": "3a0776a5",
   "metadata": {},
   "source": [
    "### Relación de las categorías más influyentes en las variables categóricas"
   ]
  },
  {
   "cell_type": "code",
   "execution_count": 30,
   "id": "c574eda2",
   "metadata": {},
   "outputs": [
    {
     "data": {
      "application/vnd.microsoft.datawrangler.viewer.v0+json": {
       "columns": [
        {
         "name": "index",
         "rawType": "int64",
         "type": "integer"
        },
        {
         "name": "DIA CERO",
         "rawType": "category",
         "type": "unknown"
        },
        {
         "name": "Probabilidad_Moroso",
         "rawType": "float64",
         "type": "float"
        }
       ],
       "ref": "5f27db68-30fc-4f50-a1d2-612383f42c10",
       "rows": [
        [
         "0",
         "False",
         "0.19026369168357"
        ],
        [
         "1",
         "True",
         "0.16923076923076924"
        ]
       ],
       "shape": {
        "columns": 2,
        "rows": 2
       }
      },
      "text/html": [
       "<div>\n",
       "<style scoped>\n",
       "    .dataframe tbody tr th:only-of-type {\n",
       "        vertical-align: middle;\n",
       "    }\n",
       "\n",
       "    .dataframe tbody tr th {\n",
       "        vertical-align: top;\n",
       "    }\n",
       "\n",
       "    .dataframe thead th {\n",
       "        text-align: right;\n",
       "    }\n",
       "</style>\n",
       "<table border=\"1\" class=\"dataframe\">\n",
       "  <thead>\n",
       "    <tr style=\"text-align: right;\">\n",
       "      <th></th>\n",
       "      <th>DIA CERO</th>\n",
       "      <th>Probabilidad_Moroso</th>\n",
       "    </tr>\n",
       "  </thead>\n",
       "  <tbody>\n",
       "    <tr>\n",
       "      <th>0</th>\n",
       "      <td>False</td>\n",
       "      <td>0.190264</td>\n",
       "    </tr>\n",
       "    <tr>\n",
       "      <th>1</th>\n",
       "      <td>True</td>\n",
       "      <td>0.169231</td>\n",
       "    </tr>\n",
       "  </tbody>\n",
       "</table>\n",
       "</div>"
      ],
      "text/plain": [
       "  DIA CERO  Probabilidad_Moroso\n",
       "0    False             0.190264\n",
       "1     True             0.169231"
      ]
     },
     "metadata": {},
     "output_type": "display_data"
    },
    {
     "data": {
      "application/vnd.microsoft.datawrangler.viewer.v0+json": {
       "columns": [
        {
         "name": "index",
         "rawType": "int64",
         "type": "integer"
        },
        {
         "name": "ID PROGRAMA",
         "rawType": "category",
         "type": "unknown"
        },
        {
         "name": "Probabilidad_Moroso",
         "rawType": "float64",
         "type": "float"
        }
       ],
       "ref": "4897e24d-3325-4c1a-abc2-b0f0b76c8a55",
       "rows": [
        [
         "0",
         "960",
         "0.3333333333333333"
        ],
        [
         "1",
         "962",
         "0.2857142857142857"
        ],
        [
         "2",
         "940",
         "0.273972602739726"
        ],
        [
         "3",
         "500",
         "0.2727272727272727"
        ],
        [
         "4",
         "100",
         "0.2641509433962264"
        ],
        [
         "5",
         "400",
         "0.23863636363636365"
        ],
        [
         "6",
         "110",
         "0.23622047244094488"
        ],
        [
         "7",
         "140",
         "0.23"
        ],
        [
         "8",
         "770",
         "0.22105263157894736"
        ],
        [
         "9",
         "630",
         "0.2033898305084746"
        ],
        [
         "10",
         "700",
         "0.20294117647058824"
        ],
        [
         "11",
         "900",
         "0.20155038759689922"
        ],
        [
         "12",
         "620",
         "0.19230769230769232"
        ],
        [
         "13",
         "130",
         "0.19101123595505617"
        ],
        [
         "14",
         "990",
         "0.18840579710144928"
        ],
        [
         "15",
         "750",
         "0.18518518518518517"
        ],
        [
         "16",
         "930",
         "0.18407960199004975"
        ],
        [
         "17",
         "220",
         "0.1791044776119403"
        ],
        [
         "18",
         "702",
         "0.17567567567567569"
        ],
        [
         "19",
         "150",
         "0.1590909090909091"
        ],
        [
         "20",
         "950",
         "0.15625"
        ],
        [
         "21",
         "600",
         "0.15625"
        ],
        [
         "22",
         "780",
         "0.1484375"
        ],
        [
         "23",
         "730",
         "0.14285714285714285"
        ],
        [
         "24",
         "740",
         "0.1388888888888889"
        ],
        [
         "25",
         "840",
         "0.13513513513513514"
        ],
        [
         "26",
         "810",
         "0.13513513513513514"
        ],
        [
         "27",
         "200",
         "0.12727272727272726"
        ],
        [
         "28",
         "760",
         "0.12"
        ],
        [
         "29",
         "720",
         "0.1171875"
        ],
        [
         "30",
         "902",
         "0.1111111111111111"
        ],
        [
         "31",
         "800",
         "0.05454545454545454"
        ],
        [
         "32",
         "230",
         "0.0"
        ],
        [
         "33",
         "790",
         "0.0"
        ]
       ],
       "shape": {
        "columns": 2,
        "rows": 34
       }
      },
      "text/html": [
       "<div>\n",
       "<style scoped>\n",
       "    .dataframe tbody tr th:only-of-type {\n",
       "        vertical-align: middle;\n",
       "    }\n",
       "\n",
       "    .dataframe tbody tr th {\n",
       "        vertical-align: top;\n",
       "    }\n",
       "\n",
       "    .dataframe thead th {\n",
       "        text-align: right;\n",
       "    }\n",
       "</style>\n",
       "<table border=\"1\" class=\"dataframe\">\n",
       "  <thead>\n",
       "    <tr style=\"text-align: right;\">\n",
       "      <th></th>\n",
       "      <th>ID PROGRAMA</th>\n",
       "      <th>Probabilidad_Moroso</th>\n",
       "    </tr>\n",
       "  </thead>\n",
       "  <tbody>\n",
       "    <tr>\n",
       "      <th>0</th>\n",
       "      <td>960</td>\n",
       "      <td>0.333333</td>\n",
       "    </tr>\n",
       "    <tr>\n",
       "      <th>1</th>\n",
       "      <td>962</td>\n",
       "      <td>0.285714</td>\n",
       "    </tr>\n",
       "    <tr>\n",
       "      <th>2</th>\n",
       "      <td>940</td>\n",
       "      <td>0.273973</td>\n",
       "    </tr>\n",
       "    <tr>\n",
       "      <th>3</th>\n",
       "      <td>500</td>\n",
       "      <td>0.272727</td>\n",
       "    </tr>\n",
       "    <tr>\n",
       "      <th>4</th>\n",
       "      <td>100</td>\n",
       "      <td>0.264151</td>\n",
       "    </tr>\n",
       "    <tr>\n",
       "      <th>5</th>\n",
       "      <td>400</td>\n",
       "      <td>0.238636</td>\n",
       "    </tr>\n",
       "    <tr>\n",
       "      <th>6</th>\n",
       "      <td>110</td>\n",
       "      <td>0.236220</td>\n",
       "    </tr>\n",
       "    <tr>\n",
       "      <th>7</th>\n",
       "      <td>140</td>\n",
       "      <td>0.230000</td>\n",
       "    </tr>\n",
       "    <tr>\n",
       "      <th>8</th>\n",
       "      <td>770</td>\n",
       "      <td>0.221053</td>\n",
       "    </tr>\n",
       "    <tr>\n",
       "      <th>9</th>\n",
       "      <td>630</td>\n",
       "      <td>0.203390</td>\n",
       "    </tr>\n",
       "    <tr>\n",
       "      <th>10</th>\n",
       "      <td>700</td>\n",
       "      <td>0.202941</td>\n",
       "    </tr>\n",
       "    <tr>\n",
       "      <th>11</th>\n",
       "      <td>900</td>\n",
       "      <td>0.201550</td>\n",
       "    </tr>\n",
       "    <tr>\n",
       "      <th>12</th>\n",
       "      <td>620</td>\n",
       "      <td>0.192308</td>\n",
       "    </tr>\n",
       "    <tr>\n",
       "      <th>13</th>\n",
       "      <td>130</td>\n",
       "      <td>0.191011</td>\n",
       "    </tr>\n",
       "    <tr>\n",
       "      <th>14</th>\n",
       "      <td>990</td>\n",
       "      <td>0.188406</td>\n",
       "    </tr>\n",
       "    <tr>\n",
       "      <th>15</th>\n",
       "      <td>750</td>\n",
       "      <td>0.185185</td>\n",
       "    </tr>\n",
       "    <tr>\n",
       "      <th>16</th>\n",
       "      <td>930</td>\n",
       "      <td>0.184080</td>\n",
       "    </tr>\n",
       "    <tr>\n",
       "      <th>17</th>\n",
       "      <td>220</td>\n",
       "      <td>0.179104</td>\n",
       "    </tr>\n",
       "    <tr>\n",
       "      <th>18</th>\n",
       "      <td>702</td>\n",
       "      <td>0.175676</td>\n",
       "    </tr>\n",
       "    <tr>\n",
       "      <th>19</th>\n",
       "      <td>150</td>\n",
       "      <td>0.159091</td>\n",
       "    </tr>\n",
       "    <tr>\n",
       "      <th>20</th>\n",
       "      <td>950</td>\n",
       "      <td>0.156250</td>\n",
       "    </tr>\n",
       "    <tr>\n",
       "      <th>21</th>\n",
       "      <td>600</td>\n",
       "      <td>0.156250</td>\n",
       "    </tr>\n",
       "    <tr>\n",
       "      <th>22</th>\n",
       "      <td>780</td>\n",
       "      <td>0.148438</td>\n",
       "    </tr>\n",
       "    <tr>\n",
       "      <th>23</th>\n",
       "      <td>730</td>\n",
       "      <td>0.142857</td>\n",
       "    </tr>\n",
       "    <tr>\n",
       "      <th>24</th>\n",
       "      <td>740</td>\n",
       "      <td>0.138889</td>\n",
       "    </tr>\n",
       "    <tr>\n",
       "      <th>25</th>\n",
       "      <td>840</td>\n",
       "      <td>0.135135</td>\n",
       "    </tr>\n",
       "    <tr>\n",
       "      <th>26</th>\n",
       "      <td>810</td>\n",
       "      <td>0.135135</td>\n",
       "    </tr>\n",
       "    <tr>\n",
       "      <th>27</th>\n",
       "      <td>200</td>\n",
       "      <td>0.127273</td>\n",
       "    </tr>\n",
       "    <tr>\n",
       "      <th>28</th>\n",
       "      <td>760</td>\n",
       "      <td>0.120000</td>\n",
       "    </tr>\n",
       "    <tr>\n",
       "      <th>29</th>\n",
       "      <td>720</td>\n",
       "      <td>0.117188</td>\n",
       "    </tr>\n",
       "    <tr>\n",
       "      <th>30</th>\n",
       "      <td>902</td>\n",
       "      <td>0.111111</td>\n",
       "    </tr>\n",
       "    <tr>\n",
       "      <th>31</th>\n",
       "      <td>800</td>\n",
       "      <td>0.054545</td>\n",
       "    </tr>\n",
       "    <tr>\n",
       "      <th>32</th>\n",
       "      <td>230</td>\n",
       "      <td>0.000000</td>\n",
       "    </tr>\n",
       "    <tr>\n",
       "      <th>33</th>\n",
       "      <td>790</td>\n",
       "      <td>0.000000</td>\n",
       "    </tr>\n",
       "  </tbody>\n",
       "</table>\n",
       "</div>"
      ],
      "text/plain": [
       "   ID PROGRAMA  Probabilidad_Moroso\n",
       "0          960             0.333333\n",
       "1          962             0.285714\n",
       "2          940             0.273973\n",
       "3          500             0.272727\n",
       "4          100             0.264151\n",
       "5          400             0.238636\n",
       "6          110             0.236220\n",
       "7          140             0.230000\n",
       "8          770             0.221053\n",
       "9          630             0.203390\n",
       "10         700             0.202941\n",
       "11         900             0.201550\n",
       "12         620             0.192308\n",
       "13         130             0.191011\n",
       "14         990             0.188406\n",
       "15         750             0.185185\n",
       "16         930             0.184080\n",
       "17         220             0.179104\n",
       "18         702             0.175676\n",
       "19         150             0.159091\n",
       "20         950             0.156250\n",
       "21         600             0.156250\n",
       "22         780             0.148438\n",
       "23         730             0.142857\n",
       "24         740             0.138889\n",
       "25         840             0.135135\n",
       "26         810             0.135135\n",
       "27         200             0.127273\n",
       "28         760             0.120000\n",
       "29         720             0.117188\n",
       "30         902             0.111111\n",
       "31         800             0.054545\n",
       "32         230             0.000000\n",
       "33         790             0.000000"
      ]
     },
     "metadata": {},
     "output_type": "display_data"
    },
    {
     "data": {
      "application/vnd.microsoft.datawrangler.viewer.v0+json": {
       "columns": [
        {
         "name": "index",
         "rawType": "int64",
         "type": "integer"
        },
        {
         "name": "MEDIO PAGO PI",
         "rawType": "category",
         "type": "unknown"
        },
        {
         "name": "Probabilidad_Moroso",
         "rawType": "float64",
         "type": "float"
        }
       ],
       "ref": "6687145c-714e-4de2-8d60-2e57ecd6fbbd",
       "rows": [
        [
         "0",
         "TARJETA + TPVF",
         "1.0"
        ],
        [
         "1",
         "TARJETA+TPVF",
         "0.4"
        ],
        [
         "2",
         "TPVF",
         "0.2807017543859649"
        ],
        [
         "3",
         "PAYCOMET",
         "0.26136363636363635"
        ],
        [
         "4",
         "0",
         "0.25"
        ],
        [
         "5",
         "TRANSFERENCIA",
         "0.23660714285714285"
        ],
        [
         "6",
         "PAYBAY",
         "0.23110624315443593"
        ],
        [
         "7",
         "TARJETA",
         "0.12564991334488734"
        ],
        [
         "8",
         "BANCO SABADELL",
         "0.0"
        ],
        [
         "9",
         "tarJETA",
         "0.0"
        ]
       ],
       "shape": {
        "columns": 2,
        "rows": 10
       }
      },
      "text/html": [
       "<div>\n",
       "<style scoped>\n",
       "    .dataframe tbody tr th:only-of-type {\n",
       "        vertical-align: middle;\n",
       "    }\n",
       "\n",
       "    .dataframe tbody tr th {\n",
       "        vertical-align: top;\n",
       "    }\n",
       "\n",
       "    .dataframe thead th {\n",
       "        text-align: right;\n",
       "    }\n",
       "</style>\n",
       "<table border=\"1\" class=\"dataframe\">\n",
       "  <thead>\n",
       "    <tr style=\"text-align: right;\">\n",
       "      <th></th>\n",
       "      <th>MEDIO PAGO PI</th>\n",
       "      <th>Probabilidad_Moroso</th>\n",
       "    </tr>\n",
       "  </thead>\n",
       "  <tbody>\n",
       "    <tr>\n",
       "      <th>0</th>\n",
       "      <td>TARJETA + TPVF</td>\n",
       "      <td>1.000000</td>\n",
       "    </tr>\n",
       "    <tr>\n",
       "      <th>1</th>\n",
       "      <td>TARJETA+TPVF</td>\n",
       "      <td>0.400000</td>\n",
       "    </tr>\n",
       "    <tr>\n",
       "      <th>2</th>\n",
       "      <td>TPVF</td>\n",
       "      <td>0.280702</td>\n",
       "    </tr>\n",
       "    <tr>\n",
       "      <th>3</th>\n",
       "      <td>PAYCOMET</td>\n",
       "      <td>0.261364</td>\n",
       "    </tr>\n",
       "    <tr>\n",
       "      <th>4</th>\n",
       "      <td>0</td>\n",
       "      <td>0.250000</td>\n",
       "    </tr>\n",
       "    <tr>\n",
       "      <th>5</th>\n",
       "      <td>TRANSFERENCIA</td>\n",
       "      <td>0.236607</td>\n",
       "    </tr>\n",
       "    <tr>\n",
       "      <th>6</th>\n",
       "      <td>PAYBAY</td>\n",
       "      <td>0.231106</td>\n",
       "    </tr>\n",
       "    <tr>\n",
       "      <th>7</th>\n",
       "      <td>TARJETA</td>\n",
       "      <td>0.125650</td>\n",
       "    </tr>\n",
       "    <tr>\n",
       "      <th>8</th>\n",
       "      <td>BANCO SABADELL</td>\n",
       "      <td>0.000000</td>\n",
       "    </tr>\n",
       "    <tr>\n",
       "      <th>9</th>\n",
       "      <td>tarJETA</td>\n",
       "      <td>0.000000</td>\n",
       "    </tr>\n",
       "  </tbody>\n",
       "</table>\n",
       "</div>"
      ],
      "text/plain": [
       "    MEDIO PAGO PI  Probabilidad_Moroso\n",
       "0  TARJETA + TPVF             1.000000\n",
       "1    TARJETA+TPVF             0.400000\n",
       "2            TPVF             0.280702\n",
       "3        PAYCOMET             0.261364\n",
       "4               0             0.250000\n",
       "5   TRANSFERENCIA             0.236607\n",
       "6          PAYBAY             0.231106\n",
       "7         TARJETA             0.125650\n",
       "8  BANCO SABADELL             0.000000\n",
       "9         tarJETA             0.000000"
      ]
     },
     "metadata": {},
     "output_type": "display_data"
    },
    {
     "data": {
      "application/vnd.microsoft.datawrangler.viewer.v0+json": {
       "columns": [
        {
         "name": "index",
         "rawType": "int64",
         "type": "integer"
        },
        {
         "name": "MEDIO PAGO IMPORTE PENDIENTE",
         "rawType": "category",
         "type": "unknown"
        },
        {
         "name": "Probabilidad_Moroso",
         "rawType": "float64",
         "type": "float"
        }
       ],
       "ref": "eea8e43e-7ef9-4eac-93e1-34e8c93f09d8",
       "rows": [
        [
         "0",
         "LINK DE PAGO",
         "0.24383020730503455"
        ],
        [
         "1",
         "TARJETA",
         "0.16733386709367493"
        ],
        [
         "2",
         "SIN IMPORTE PTE",
         "0.14473684210526316"
        ],
        [
         "3",
         "DOMICILIACION",
         "0.1"
        ],
        [
         "4",
         "TRANSFERENCIA",
         "0.0931174089068826"
        ]
       ],
       "shape": {
        "columns": 2,
        "rows": 5
       }
      },
      "text/html": [
       "<div>\n",
       "<style scoped>\n",
       "    .dataframe tbody tr th:only-of-type {\n",
       "        vertical-align: middle;\n",
       "    }\n",
       "\n",
       "    .dataframe tbody tr th {\n",
       "        vertical-align: top;\n",
       "    }\n",
       "\n",
       "    .dataframe thead th {\n",
       "        text-align: right;\n",
       "    }\n",
       "</style>\n",
       "<table border=\"1\" class=\"dataframe\">\n",
       "  <thead>\n",
       "    <tr style=\"text-align: right;\">\n",
       "      <th></th>\n",
       "      <th>MEDIO PAGO IMPORTE PENDIENTE</th>\n",
       "      <th>Probabilidad_Moroso</th>\n",
       "    </tr>\n",
       "  </thead>\n",
       "  <tbody>\n",
       "    <tr>\n",
       "      <th>0</th>\n",
       "      <td>LINK DE PAGO</td>\n",
       "      <td>0.243830</td>\n",
       "    </tr>\n",
       "    <tr>\n",
       "      <th>1</th>\n",
       "      <td>TARJETA</td>\n",
       "      <td>0.167334</td>\n",
       "    </tr>\n",
       "    <tr>\n",
       "      <th>2</th>\n",
       "      <td>SIN IMPORTE PTE</td>\n",
       "      <td>0.144737</td>\n",
       "    </tr>\n",
       "    <tr>\n",
       "      <th>3</th>\n",
       "      <td>DOMICILIACION</td>\n",
       "      <td>0.100000</td>\n",
       "    </tr>\n",
       "    <tr>\n",
       "      <th>4</th>\n",
       "      <td>TRANSFERENCIA</td>\n",
       "      <td>0.093117</td>\n",
       "    </tr>\n",
       "  </tbody>\n",
       "</table>\n",
       "</div>"
      ],
      "text/plain": [
       "  MEDIO PAGO IMPORTE PENDIENTE  Probabilidad_Moroso\n",
       "0                 LINK DE PAGO             0.243830\n",
       "1                      TARJETA             0.167334\n",
       "2              SIN IMPORTE PTE             0.144737\n",
       "3                DOMICILIACION             0.100000\n",
       "4                TRANSFERENCIA             0.093117"
      ]
     },
     "metadata": {},
     "output_type": "display_data"
    },
    {
     "data": {
      "application/vnd.microsoft.datawrangler.viewer.v0+json": {
       "columns": [
        {
         "name": "index",
         "rawType": "int64",
         "type": "integer"
        },
        {
         "name": "FORMA DE PAGO",
         "rawType": "category",
         "type": "unknown"
        },
        {
         "name": "Probabilidad_Moroso",
         "rawType": "float64",
         "type": "float"
        }
       ],
       "ref": "a5caa073-7879-4f04-a739-98c1468f0a04",
       "rows": [
        [
         "0",
         "APLAZADO",
         "0.23415132924335377"
        ],
        [
         "1",
         "EFECTIVO",
         "0.13095238095238096"
        ],
        [
         "2",
         "CONTADO DIAS",
         "0.039711191335740074"
        ],
        [
         "3",
         "CONTADO 2V",
         "0.0"
        ]
       ],
       "shape": {
        "columns": 2,
        "rows": 4
       }
      },
      "text/html": [
       "<div>\n",
       "<style scoped>\n",
       "    .dataframe tbody tr th:only-of-type {\n",
       "        vertical-align: middle;\n",
       "    }\n",
       "\n",
       "    .dataframe tbody tr th {\n",
       "        vertical-align: top;\n",
       "    }\n",
       "\n",
       "    .dataframe thead th {\n",
       "        text-align: right;\n",
       "    }\n",
       "</style>\n",
       "<table border=\"1\" class=\"dataframe\">\n",
       "  <thead>\n",
       "    <tr style=\"text-align: right;\">\n",
       "      <th></th>\n",
       "      <th>FORMA DE PAGO</th>\n",
       "      <th>Probabilidad_Moroso</th>\n",
       "    </tr>\n",
       "  </thead>\n",
       "  <tbody>\n",
       "    <tr>\n",
       "      <th>0</th>\n",
       "      <td>APLAZADO</td>\n",
       "      <td>0.234151</td>\n",
       "    </tr>\n",
       "    <tr>\n",
       "      <th>1</th>\n",
       "      <td>EFECTIVO</td>\n",
       "      <td>0.130952</td>\n",
       "    </tr>\n",
       "    <tr>\n",
       "      <th>2</th>\n",
       "      <td>CONTADO DIAS</td>\n",
       "      <td>0.039711</td>\n",
       "    </tr>\n",
       "    <tr>\n",
       "      <th>3</th>\n",
       "      <td>CONTADO 2V</td>\n",
       "      <td>0.000000</td>\n",
       "    </tr>\n",
       "  </tbody>\n",
       "</table>\n",
       "</div>"
      ],
      "text/plain": [
       "  FORMA DE PAGO  Probabilidad_Moroso\n",
       "0      APLAZADO             0.234151\n",
       "1      EFECTIVO             0.130952\n",
       "2  CONTADO DIAS             0.039711\n",
       "3    CONTADO 2V             0.000000"
      ]
     },
     "metadata": {},
     "output_type": "display_data"
    },
    {
     "data": {
      "application/vnd.microsoft.datawrangler.viewer.v0+json": {
       "columns": [
        {
         "name": "index",
         "rawType": "int64",
         "type": "integer"
        },
        {
         "name": "ASESOR",
         "rawType": "category",
         "type": "unknown"
        },
        {
         "name": "Probabilidad_Moroso",
         "rawType": "float64",
         "type": "float"
        }
       ],
       "ref": "b45f1543-882b-497e-9269-f1384a12ece7",
       "rows": [
        [
         "0",
         "Alba De Rosende",
         "1.0"
        ],
        [
         "1",
         "Cristobal Horney",
         "1.0"
        ],
        [
         "2",
         "Daniela Fazio",
         "1.0"
        ],
        [
         "3",
         "patricia angarita",
         "0.5"
        ],
        [
         "4",
         "José zegarra",
         "0.5"
        ],
        [
         "5",
         "Jackeline Ruiz",
         "0.5"
        ],
        [
         "6",
         "Rafael Dausa",
         "0.4"
        ],
        [
         "7",
         "Gonzalo Agüero",
         "0.3870967741935484"
        ],
        [
         "8",
         "Alexandra Pérez",
         "0.3333333333333333"
        ],
        [
         "9",
         "Rosa Rodríguez",
         "0.3333333333333333"
        ],
        [
         "10",
         "Paola Antezana",
         "0.3181818181818182"
        ],
        [
         "11",
         "Angie Tique",
         "0.2857142857142857"
        ],
        [
         "12",
         "Mery Chapler",
         "0.2727272727272727"
        ],
        [
         "13",
         "Yenifer Germano",
         "0.2631578947368421"
        ],
        [
         "14",
         "Alberto Viloria ",
         "0.2625"
        ],
        [
         "15",
         "Estefany Florez",
         "0.2564102564102564"
        ],
        [
         "16",
         "Iván Merino",
         "0.25"
        ],
        [
         "17",
         "Manuel Martínez",
         "0.24528301886792453"
        ],
        [
         "18",
         "Carlos Henao",
         "0.24242424242424243"
        ],
        [
         "19",
         "David Hernandez",
         "0.23076923076923078"
        ],
        [
         "20",
         "Alejandro Paz",
         "0.22580645161290322"
        ],
        [
         "21",
         "Nicolás Uriburu",
         "0.22388059701492538"
        ],
        [
         "22",
         "Alejandro Steinberg",
         "0.2222222222222222"
        ],
        [
         "23",
         "Martha Sandoval",
         "0.22058823529411764"
        ],
        [
         "24",
         "Paola Suárez",
         "0.21839080459770116"
        ],
        [
         "25",
         "Paulina Zamudio",
         "0.21428571428571427"
        ],
        [
         "26",
         "Patricia Angarita",
         "0.21052631578947367"
        ],
        [
         "27",
         "Erika Gutierrez",
         "0.20689655172413793"
        ],
        [
         "28",
         "Viviana Cubas",
         "0.20588235294117646"
        ],
        [
         "29",
         "Germán Castro",
         "0.20408163265306123"
        ],
        [
         "30",
         "María José Ocaña",
         "0.2"
        ],
        [
         "31",
         "Rodrigo Carelli",
         "0.2"
        ],
        [
         "32",
         "Víctor Feliz",
         "0.19672131147540983"
        ],
        [
         "33",
         "Marylia Pereira",
         "0.1951219512195122"
        ],
        [
         "34",
         "Gabriela de Cordova",
         "0.19444444444444445"
        ],
        [
         "35",
         "Ivonne Rose",
         "0.19047619047619047"
        ],
        [
         "36",
         "Carlos Vazquez",
         "0.1875"
        ],
        [
         "37",
         "Javiera Bruron",
         "0.18604651162790697"
        ],
        [
         "38",
         "Venecia Pedriquez",
         "0.1836734693877551"
        ],
        [
         "39",
         "Iván Canale",
         "0.18333333333333332"
        ],
        [
         "40",
         "Flor Rodríguez",
         "0.18181818181818182"
        ],
        [
         "41",
         "Javier Vaquerizo",
         "0.18"
        ],
        [
         "42",
         "Carlos Ruiz",
         "0.1797752808988764"
        ],
        [
         "43",
         "María Gabriela Pan",
         "0.1794871794871795"
        ],
        [
         "44",
         "Amanda Pedraza",
         "0.17777777777777778"
        ],
        [
         "45",
         "Ibrahim Abajtour",
         "0.17647058823529413"
        ],
        [
         "46",
         "Maria Jacoste",
         "0.17647058823529413"
        ],
        [
         "47",
         "Rocío Alonso",
         "0.17391304347826086"
        ],
        [
         "48",
         "Angélica Gonçalves",
         "0.171875"
        ],
        [
         "49",
         "Michael Navas",
         "0.17142857142857143"
        ]
       ],
       "shape": {
        "columns": 2,
        "rows": 82
       }
      },
      "text/html": [
       "<div>\n",
       "<style scoped>\n",
       "    .dataframe tbody tr th:only-of-type {\n",
       "        vertical-align: middle;\n",
       "    }\n",
       "\n",
       "    .dataframe tbody tr th {\n",
       "        vertical-align: top;\n",
       "    }\n",
       "\n",
       "    .dataframe thead th {\n",
       "        text-align: right;\n",
       "    }\n",
       "</style>\n",
       "<table border=\"1\" class=\"dataframe\">\n",
       "  <thead>\n",
       "    <tr style=\"text-align: right;\">\n",
       "      <th></th>\n",
       "      <th>ASESOR</th>\n",
       "      <th>Probabilidad_Moroso</th>\n",
       "    </tr>\n",
       "  </thead>\n",
       "  <tbody>\n",
       "    <tr>\n",
       "      <th>0</th>\n",
       "      <td>Alba De Rosende</td>\n",
       "      <td>1.0</td>\n",
       "    </tr>\n",
       "    <tr>\n",
       "      <th>1</th>\n",
       "      <td>Cristobal Horney</td>\n",
       "      <td>1.0</td>\n",
       "    </tr>\n",
       "    <tr>\n",
       "      <th>2</th>\n",
       "      <td>Daniela Fazio</td>\n",
       "      <td>1.0</td>\n",
       "    </tr>\n",
       "    <tr>\n",
       "      <th>3</th>\n",
       "      <td>patricia angarita</td>\n",
       "      <td>0.5</td>\n",
       "    </tr>\n",
       "    <tr>\n",
       "      <th>4</th>\n",
       "      <td>José zegarra</td>\n",
       "      <td>0.5</td>\n",
       "    </tr>\n",
       "    <tr>\n",
       "      <th>...</th>\n",
       "      <td>...</td>\n",
       "      <td>...</td>\n",
       "    </tr>\n",
       "    <tr>\n",
       "      <th>77</th>\n",
       "      <td>Franklin Morales</td>\n",
       "      <td>0.0</td>\n",
       "    </tr>\n",
       "    <tr>\n",
       "      <th>78</th>\n",
       "      <td>Verónica Monje</td>\n",
       "      <td>0.0</td>\n",
       "    </tr>\n",
       "    <tr>\n",
       "      <th>79</th>\n",
       "      <td>Xavier Pérez</td>\n",
       "      <td>0.0</td>\n",
       "    </tr>\n",
       "    <tr>\n",
       "      <th>80</th>\n",
       "      <td>Xénia Pérez</td>\n",
       "      <td>0.0</td>\n",
       "    </tr>\n",
       "    <tr>\n",
       "      <th>81</th>\n",
       "      <td>Yessica Ladino Quintero</td>\n",
       "      <td>0.0</td>\n",
       "    </tr>\n",
       "  </tbody>\n",
       "</table>\n",
       "<p>82 rows × 2 columns</p>\n",
       "</div>"
      ],
      "text/plain": [
       "                     ASESOR  Probabilidad_Moroso\n",
       "0           Alba De Rosende                  1.0\n",
       "1          Cristobal Horney                  1.0\n",
       "2             Daniela Fazio                  1.0\n",
       "3         patricia angarita                  0.5\n",
       "4              José zegarra                  0.5\n",
       "..                      ...                  ...\n",
       "77         Franklin Morales                  0.0\n",
       "78           Verónica Monje                  0.0\n",
       "79             Xavier Pérez                  0.0\n",
       "80              Xénia Pérez                  0.0\n",
       "81  Yessica Ladino Quintero                  0.0\n",
       "\n",
       "[82 rows x 2 columns]"
      ]
     },
     "metadata": {},
     "output_type": "display_data"
    },
    {
     "data": {
      "application/vnd.microsoft.datawrangler.viewer.v0+json": {
       "columns": [
        {
         "name": "index",
         "rawType": "int64",
         "type": "integer"
        },
        {
         "name": "FORMA DE PAGO ORIGINAL",
         "rawType": "category",
         "type": "unknown"
        },
        {
         "name": "Probabilidad_Moroso",
         "rawType": "float64",
         "type": "float"
        }
       ],
       "ref": "71d3317d-2843-4356-ab5c-d2403bff488a",
       "rows": [
        [
         "0",
         "APLAZADO",
         "0.22945736434108527"
        ],
        [
         "1",
         "EFECTIVO",
         "0.13414634146341464"
        ],
        [
         "2",
         "CONTADO DIAS",
         "0.06260869565217392"
        ],
        [
         "3",
         "CONTADO",
         "0.0"
        ],
        [
         "4",
         "CONTADO APLAZADO",
         "0.0"
        ],
        [
         "5",
         "CONTADO 2V",
         "0.0"
        ]
       ],
       "shape": {
        "columns": 2,
        "rows": 6
       }
      },
      "text/html": [
       "<div>\n",
       "<style scoped>\n",
       "    .dataframe tbody tr th:only-of-type {\n",
       "        vertical-align: middle;\n",
       "    }\n",
       "\n",
       "    .dataframe tbody tr th {\n",
       "        vertical-align: top;\n",
       "    }\n",
       "\n",
       "    .dataframe thead th {\n",
       "        text-align: right;\n",
       "    }\n",
       "</style>\n",
       "<table border=\"1\" class=\"dataframe\">\n",
       "  <thead>\n",
       "    <tr style=\"text-align: right;\">\n",
       "      <th></th>\n",
       "      <th>FORMA DE PAGO ORIGINAL</th>\n",
       "      <th>Probabilidad_Moroso</th>\n",
       "    </tr>\n",
       "  </thead>\n",
       "  <tbody>\n",
       "    <tr>\n",
       "      <th>0</th>\n",
       "      <td>APLAZADO</td>\n",
       "      <td>0.229457</td>\n",
       "    </tr>\n",
       "    <tr>\n",
       "      <th>1</th>\n",
       "      <td>EFECTIVO</td>\n",
       "      <td>0.134146</td>\n",
       "    </tr>\n",
       "    <tr>\n",
       "      <th>2</th>\n",
       "      <td>CONTADO DIAS</td>\n",
       "      <td>0.062609</td>\n",
       "    </tr>\n",
       "    <tr>\n",
       "      <th>3</th>\n",
       "      <td>CONTADO</td>\n",
       "      <td>0.000000</td>\n",
       "    </tr>\n",
       "    <tr>\n",
       "      <th>4</th>\n",
       "      <td>CONTADO APLAZADO</td>\n",
       "      <td>0.000000</td>\n",
       "    </tr>\n",
       "    <tr>\n",
       "      <th>5</th>\n",
       "      <td>CONTADO 2V</td>\n",
       "      <td>0.000000</td>\n",
       "    </tr>\n",
       "  </tbody>\n",
       "</table>\n",
       "</div>"
      ],
      "text/plain": [
       "  FORMA DE PAGO ORIGINAL  Probabilidad_Moroso\n",
       "0               APLAZADO             0.229457\n",
       "1               EFECTIVO             0.134146\n",
       "2           CONTADO DIAS             0.062609\n",
       "3                CONTADO             0.000000\n",
       "4       CONTADO APLAZADO             0.000000\n",
       "5             CONTADO 2V             0.000000"
      ]
     },
     "metadata": {},
     "output_type": "display_data"
    },
    {
     "data": {
      "application/vnd.microsoft.datawrangler.viewer.v0+json": {
       "columns": [
        {
         "name": "index",
         "rawType": "int64",
         "type": "integer"
        },
        {
         "name": "TIPO PROGRAMA",
         "rawType": "category",
         "type": "unknown"
        },
        {
         "name": "Probabilidad_Moroso",
         "rawType": "float64",
         "type": "float"
        }
       ],
       "ref": "7a62a630-320a-4402-8180-d1a639d61b81",
       "rows": [
        [
         "0",
         "MBA",
         "0.19305019305019305"
        ],
        [
         "1",
         "MST",
         "0.18878424657534246"
        ]
       ],
       "shape": {
        "columns": 2,
        "rows": 2
       }
      },
      "text/html": [
       "<div>\n",
       "<style scoped>\n",
       "    .dataframe tbody tr th:only-of-type {\n",
       "        vertical-align: middle;\n",
       "    }\n",
       "\n",
       "    .dataframe tbody tr th {\n",
       "        vertical-align: top;\n",
       "    }\n",
       "\n",
       "    .dataframe thead th {\n",
       "        text-align: right;\n",
       "    }\n",
       "</style>\n",
       "<table border=\"1\" class=\"dataframe\">\n",
       "  <thead>\n",
       "    <tr style=\"text-align: right;\">\n",
       "      <th></th>\n",
       "      <th>TIPO PROGRAMA</th>\n",
       "      <th>Probabilidad_Moroso</th>\n",
       "    </tr>\n",
       "  </thead>\n",
       "  <tbody>\n",
       "    <tr>\n",
       "      <th>0</th>\n",
       "      <td>MBA</td>\n",
       "      <td>0.193050</td>\n",
       "    </tr>\n",
       "    <tr>\n",
       "      <th>1</th>\n",
       "      <td>MST</td>\n",
       "      <td>0.188784</td>\n",
       "    </tr>\n",
       "  </tbody>\n",
       "</table>\n",
       "</div>"
      ],
      "text/plain": [
       "  TIPO PROGRAMA  Probabilidad_Moroso\n",
       "0           MBA             0.193050\n",
       "1           MST             0.188784"
      ]
     },
     "metadata": {},
     "output_type": "display_data"
    },
    {
     "data": {
      "application/vnd.microsoft.datawrangler.viewer.v0+json": {
       "columns": [
        {
         "name": "index",
         "rawType": "int64",
         "type": "integer"
        },
        {
         "name": "NACIONALIDAD",
         "rawType": "category",
         "type": "unknown"
        },
        {
         "name": "Probabilidad_Moroso",
         "rawType": "float64",
         "type": "float"
        }
       ],
       "ref": "d1903ed1-2390-49c9-99b9-c3057ca250fb",
       "rows": [
        [
         "0",
         "Angola",
         "1.0"
        ],
        [
         "1",
         "Rusia",
         "1.0"
        ],
        [
         "2",
         "Líbano",
         "1.0"
        ],
        [
         "3",
         "Arabia Saudí",
         "0.75"
        ],
        [
         "4",
         "Albania",
         "0.6666666666666666"
        ],
        [
         "5",
         "Haití",
         "0.5"
        ],
        [
         "6",
         "Bolivia",
         "0.4166666666666667"
        ],
        [
         "7",
         "Sakartvelo",
         "0.375"
        ],
        [
         "8",
         "India",
         "0.3333333333333333"
        ],
        [
         "9",
         "Alemania",
         "0.3333333333333333"
        ],
        [
         "10",
         "Puerto Rico",
         "0.29310344827586204"
        ],
        [
         "11",
         "Panamá",
         "0.2702702702702703"
        ],
        [
         "12",
         "República Dominicana",
         "0.2702702702702703"
        ],
        [
         "13",
         "México",
         "0.2513812154696133"
        ],
        [
         "14",
         "Marruecos",
         "0.25"
        ],
        [
         "15",
         "Cuba",
         "0.25"
        ],
        [
         "16",
         "Perú",
         "0.2441860465116279"
        ],
        [
         "17",
         "El Salvador",
         "0.24285714285714285"
        ],
        [
         "18",
         "Ecuador",
         "0.23507462686567165"
        ],
        [
         "19",
         "Venezuela",
         "0.21739130434782608"
        ],
        [
         "20",
         "Guatemala",
         "0.20833333333333334"
        ],
        [
         "21",
         "Egipto",
         "0.2"
        ],
        [
         "22",
         "Brasil",
         "0.18181818181818182"
        ],
        [
         "23",
         "Nicaragua",
         "0.1724137931034483"
        ],
        [
         "24",
         "Libia",
         "0.16666666666666666"
        ],
        [
         "25",
         "Colombia",
         "0.16270566727605118"
        ],
        [
         "26",
         "Chile",
         "0.1602787456445993"
        ],
        [
         "27",
         "Paraguay",
         "0.14285714285714285"
        ],
        [
         "28",
         "Costa Rica",
         "0.14285714285714285"
        ],
        [
         "29",
         "Honduras",
         "0.14"
        ],
        [
         "30",
         "Argentina",
         "0.13157894736842105"
        ],
        [
         "31",
         "Estados Unidos",
         "0.12903225806451613"
        ],
        [
         "32",
         "Portugal",
         "0.1"
        ],
        [
         "33",
         "Uruguay",
         "0.09722222222222222"
        ],
        [
         "34",
         "España",
         "0.08982035928143713"
        ],
        [
         "35",
         "Italia",
         "0.07692307692307693"
        ],
        [
         "36",
         "Grecia",
         "0.0"
        ],
        [
         "37",
         "Francia",
         "0.0"
        ],
        [
         "38",
         "Bélgica",
         "0.0"
        ],
        [
         "39",
         "Bulgaria",
         "0.0"
        ],
        [
         "40",
         "Andorra",
         "0.0"
        ],
        [
         "41",
         "Eslovaquia",
         "0.0"
        ],
        [
         "42",
         "Mozambique",
         "0.0"
        ],
        [
         "43",
         "Pakistán",
         "0.0"
        ],
        [
         "44",
         "Noruega",
         "0.0"
        ],
        [
         "45",
         "Nigeria",
         "0.0"
        ],
        [
         "46",
         "Kenia",
         "0.0"
        ],
        [
         "47",
         "Japón",
         "0.0"
        ],
        [
         "48",
         "Malasia",
         "0.0"
        ],
        [
         "49",
         "Moldavia",
         "0.0"
        ]
       ],
       "shape": {
        "columns": 2,
        "rows": 59
       }
      },
      "text/html": [
       "<div>\n",
       "<style scoped>\n",
       "    .dataframe tbody tr th:only-of-type {\n",
       "        vertical-align: middle;\n",
       "    }\n",
       "\n",
       "    .dataframe tbody tr th {\n",
       "        vertical-align: top;\n",
       "    }\n",
       "\n",
       "    .dataframe thead th {\n",
       "        text-align: right;\n",
       "    }\n",
       "</style>\n",
       "<table border=\"1\" class=\"dataframe\">\n",
       "  <thead>\n",
       "    <tr style=\"text-align: right;\">\n",
       "      <th></th>\n",
       "      <th>NACIONALIDAD</th>\n",
       "      <th>Probabilidad_Moroso</th>\n",
       "    </tr>\n",
       "  </thead>\n",
       "  <tbody>\n",
       "    <tr>\n",
       "      <th>0</th>\n",
       "      <td>Angola</td>\n",
       "      <td>1.000000</td>\n",
       "    </tr>\n",
       "    <tr>\n",
       "      <th>1</th>\n",
       "      <td>Rusia</td>\n",
       "      <td>1.000000</td>\n",
       "    </tr>\n",
       "    <tr>\n",
       "      <th>2</th>\n",
       "      <td>Líbano</td>\n",
       "      <td>1.000000</td>\n",
       "    </tr>\n",
       "    <tr>\n",
       "      <th>3</th>\n",
       "      <td>Arabia Saudí</td>\n",
       "      <td>0.750000</td>\n",
       "    </tr>\n",
       "    <tr>\n",
       "      <th>4</th>\n",
       "      <td>Albania</td>\n",
       "      <td>0.666667</td>\n",
       "    </tr>\n",
       "    <tr>\n",
       "      <th>5</th>\n",
       "      <td>Haití</td>\n",
       "      <td>0.500000</td>\n",
       "    </tr>\n",
       "    <tr>\n",
       "      <th>6</th>\n",
       "      <td>Bolivia</td>\n",
       "      <td>0.416667</td>\n",
       "    </tr>\n",
       "    <tr>\n",
       "      <th>7</th>\n",
       "      <td>Sakartvelo</td>\n",
       "      <td>0.375000</td>\n",
       "    </tr>\n",
       "    <tr>\n",
       "      <th>8</th>\n",
       "      <td>India</td>\n",
       "      <td>0.333333</td>\n",
       "    </tr>\n",
       "    <tr>\n",
       "      <th>9</th>\n",
       "      <td>Alemania</td>\n",
       "      <td>0.333333</td>\n",
       "    </tr>\n",
       "    <tr>\n",
       "      <th>10</th>\n",
       "      <td>Puerto Rico</td>\n",
       "      <td>0.293103</td>\n",
       "    </tr>\n",
       "    <tr>\n",
       "      <th>11</th>\n",
       "      <td>Panamá</td>\n",
       "      <td>0.270270</td>\n",
       "    </tr>\n",
       "    <tr>\n",
       "      <th>12</th>\n",
       "      <td>República Dominicana</td>\n",
       "      <td>0.270270</td>\n",
       "    </tr>\n",
       "    <tr>\n",
       "      <th>13</th>\n",
       "      <td>México</td>\n",
       "      <td>0.251381</td>\n",
       "    </tr>\n",
       "    <tr>\n",
       "      <th>14</th>\n",
       "      <td>Marruecos</td>\n",
       "      <td>0.250000</td>\n",
       "    </tr>\n",
       "    <tr>\n",
       "      <th>15</th>\n",
       "      <td>Cuba</td>\n",
       "      <td>0.250000</td>\n",
       "    </tr>\n",
       "    <tr>\n",
       "      <th>16</th>\n",
       "      <td>Perú</td>\n",
       "      <td>0.244186</td>\n",
       "    </tr>\n",
       "    <tr>\n",
       "      <th>17</th>\n",
       "      <td>El Salvador</td>\n",
       "      <td>0.242857</td>\n",
       "    </tr>\n",
       "    <tr>\n",
       "      <th>18</th>\n",
       "      <td>Ecuador</td>\n",
       "      <td>0.235075</td>\n",
       "    </tr>\n",
       "    <tr>\n",
       "      <th>19</th>\n",
       "      <td>Venezuela</td>\n",
       "      <td>0.217391</td>\n",
       "    </tr>\n",
       "    <tr>\n",
       "      <th>20</th>\n",
       "      <td>Guatemala</td>\n",
       "      <td>0.208333</td>\n",
       "    </tr>\n",
       "    <tr>\n",
       "      <th>21</th>\n",
       "      <td>Egipto</td>\n",
       "      <td>0.200000</td>\n",
       "    </tr>\n",
       "    <tr>\n",
       "      <th>22</th>\n",
       "      <td>Brasil</td>\n",
       "      <td>0.181818</td>\n",
       "    </tr>\n",
       "    <tr>\n",
       "      <th>23</th>\n",
       "      <td>Nicaragua</td>\n",
       "      <td>0.172414</td>\n",
       "    </tr>\n",
       "    <tr>\n",
       "      <th>24</th>\n",
       "      <td>Libia</td>\n",
       "      <td>0.166667</td>\n",
       "    </tr>\n",
       "    <tr>\n",
       "      <th>25</th>\n",
       "      <td>Colombia</td>\n",
       "      <td>0.162706</td>\n",
       "    </tr>\n",
       "    <tr>\n",
       "      <th>26</th>\n",
       "      <td>Chile</td>\n",
       "      <td>0.160279</td>\n",
       "    </tr>\n",
       "    <tr>\n",
       "      <th>27</th>\n",
       "      <td>Paraguay</td>\n",
       "      <td>0.142857</td>\n",
       "    </tr>\n",
       "    <tr>\n",
       "      <th>28</th>\n",
       "      <td>Costa Rica</td>\n",
       "      <td>0.142857</td>\n",
       "    </tr>\n",
       "    <tr>\n",
       "      <th>29</th>\n",
       "      <td>Honduras</td>\n",
       "      <td>0.140000</td>\n",
       "    </tr>\n",
       "    <tr>\n",
       "      <th>30</th>\n",
       "      <td>Argentina</td>\n",
       "      <td>0.131579</td>\n",
       "    </tr>\n",
       "    <tr>\n",
       "      <th>31</th>\n",
       "      <td>Estados Unidos</td>\n",
       "      <td>0.129032</td>\n",
       "    </tr>\n",
       "    <tr>\n",
       "      <th>32</th>\n",
       "      <td>Portugal</td>\n",
       "      <td>0.100000</td>\n",
       "    </tr>\n",
       "    <tr>\n",
       "      <th>33</th>\n",
       "      <td>Uruguay</td>\n",
       "      <td>0.097222</td>\n",
       "    </tr>\n",
       "    <tr>\n",
       "      <th>34</th>\n",
       "      <td>España</td>\n",
       "      <td>0.089820</td>\n",
       "    </tr>\n",
       "    <tr>\n",
       "      <th>35</th>\n",
       "      <td>Italia</td>\n",
       "      <td>0.076923</td>\n",
       "    </tr>\n",
       "    <tr>\n",
       "      <th>36</th>\n",
       "      <td>Grecia</td>\n",
       "      <td>0.000000</td>\n",
       "    </tr>\n",
       "    <tr>\n",
       "      <th>37</th>\n",
       "      <td>Francia</td>\n",
       "      <td>0.000000</td>\n",
       "    </tr>\n",
       "    <tr>\n",
       "      <th>38</th>\n",
       "      <td>Bélgica</td>\n",
       "      <td>0.000000</td>\n",
       "    </tr>\n",
       "    <tr>\n",
       "      <th>39</th>\n",
       "      <td>Bulgaria</td>\n",
       "      <td>0.000000</td>\n",
       "    </tr>\n",
       "    <tr>\n",
       "      <th>40</th>\n",
       "      <td>Andorra</td>\n",
       "      <td>0.000000</td>\n",
       "    </tr>\n",
       "    <tr>\n",
       "      <th>41</th>\n",
       "      <td>Eslovaquia</td>\n",
       "      <td>0.000000</td>\n",
       "    </tr>\n",
       "    <tr>\n",
       "      <th>42</th>\n",
       "      <td>Mozambique</td>\n",
       "      <td>0.000000</td>\n",
       "    </tr>\n",
       "    <tr>\n",
       "      <th>43</th>\n",
       "      <td>Pakistán</td>\n",
       "      <td>0.000000</td>\n",
       "    </tr>\n",
       "    <tr>\n",
       "      <th>44</th>\n",
       "      <td>Noruega</td>\n",
       "      <td>0.000000</td>\n",
       "    </tr>\n",
       "    <tr>\n",
       "      <th>45</th>\n",
       "      <td>Nigeria</td>\n",
       "      <td>0.000000</td>\n",
       "    </tr>\n",
       "    <tr>\n",
       "      <th>46</th>\n",
       "      <td>Kenia</td>\n",
       "      <td>0.000000</td>\n",
       "    </tr>\n",
       "    <tr>\n",
       "      <th>47</th>\n",
       "      <td>Japón</td>\n",
       "      <td>0.000000</td>\n",
       "    </tr>\n",
       "    <tr>\n",
       "      <th>48</th>\n",
       "      <td>Malasia</td>\n",
       "      <td>0.000000</td>\n",
       "    </tr>\n",
       "    <tr>\n",
       "      <th>49</th>\n",
       "      <td>Moldavia</td>\n",
       "      <td>0.000000</td>\n",
       "    </tr>\n",
       "    <tr>\n",
       "      <th>50</th>\n",
       "      <td>Polonia</td>\n",
       "      <td>0.000000</td>\n",
       "    </tr>\n",
       "    <tr>\n",
       "      <th>51</th>\n",
       "      <td>Rumanía</td>\n",
       "      <td>0.000000</td>\n",
       "    </tr>\n",
       "    <tr>\n",
       "      <th>52</th>\n",
       "      <td>Reino Unido</td>\n",
       "      <td>0.000000</td>\n",
       "    </tr>\n",
       "    <tr>\n",
       "      <th>53</th>\n",
       "      <td>Siria</td>\n",
       "      <td>0.000000</td>\n",
       "    </tr>\n",
       "    <tr>\n",
       "      <th>54</th>\n",
       "      <td>Suiza</td>\n",
       "      <td>0.000000</td>\n",
       "    </tr>\n",
       "    <tr>\n",
       "      <th>55</th>\n",
       "      <td>Túnez</td>\n",
       "      <td>0.000000</td>\n",
       "    </tr>\n",
       "    <tr>\n",
       "      <th>56</th>\n",
       "      <td>Turquía</td>\n",
       "      <td>0.000000</td>\n",
       "    </tr>\n",
       "    <tr>\n",
       "      <th>57</th>\n",
       "      <td>Uganda</td>\n",
       "      <td>0.000000</td>\n",
       "    </tr>\n",
       "    <tr>\n",
       "      <th>58</th>\n",
       "      <td>Ucrania</td>\n",
       "      <td>0.000000</td>\n",
       "    </tr>\n",
       "  </tbody>\n",
       "</table>\n",
       "</div>"
      ],
      "text/plain": [
       "            NACIONALIDAD  Probabilidad_Moroso\n",
       "0                 Angola             1.000000\n",
       "1                  Rusia             1.000000\n",
       "2                 Líbano             1.000000\n",
       "3           Arabia Saudí             0.750000\n",
       "4                Albania             0.666667\n",
       "5                  Haití             0.500000\n",
       "6                Bolivia             0.416667\n",
       "7             Sakartvelo             0.375000\n",
       "8                  India             0.333333\n",
       "9               Alemania             0.333333\n",
       "10           Puerto Rico             0.293103\n",
       "11                Panamá             0.270270\n",
       "12  República Dominicana             0.270270\n",
       "13                México             0.251381\n",
       "14             Marruecos             0.250000\n",
       "15                  Cuba             0.250000\n",
       "16                  Perú             0.244186\n",
       "17           El Salvador             0.242857\n",
       "18               Ecuador             0.235075\n",
       "19             Venezuela             0.217391\n",
       "20             Guatemala             0.208333\n",
       "21                Egipto             0.200000\n",
       "22                Brasil             0.181818\n",
       "23             Nicaragua             0.172414\n",
       "24                 Libia             0.166667\n",
       "25              Colombia             0.162706\n",
       "26                 Chile             0.160279\n",
       "27              Paraguay             0.142857\n",
       "28            Costa Rica             0.142857\n",
       "29              Honduras             0.140000\n",
       "30             Argentina             0.131579\n",
       "31        Estados Unidos             0.129032\n",
       "32              Portugal             0.100000\n",
       "33               Uruguay             0.097222\n",
       "34                España             0.089820\n",
       "35                Italia             0.076923\n",
       "36                Grecia             0.000000\n",
       "37               Francia             0.000000\n",
       "38               Bélgica             0.000000\n",
       "39              Bulgaria             0.000000\n",
       "40               Andorra             0.000000\n",
       "41            Eslovaquia             0.000000\n",
       "42            Mozambique             0.000000\n",
       "43              Pakistán             0.000000\n",
       "44               Noruega             0.000000\n",
       "45               Nigeria             0.000000\n",
       "46                 Kenia             0.000000\n",
       "47                 Japón             0.000000\n",
       "48               Malasia             0.000000\n",
       "49              Moldavia             0.000000\n",
       "50               Polonia             0.000000\n",
       "51               Rumanía             0.000000\n",
       "52           Reino Unido             0.000000\n",
       "53                 Siria             0.000000\n",
       "54                 Suiza             0.000000\n",
       "55                 Túnez             0.000000\n",
       "56               Turquía             0.000000\n",
       "57                Uganda             0.000000\n",
       "58               Ucrania             0.000000"
      ]
     },
     "metadata": {},
     "output_type": "display_data"
    },
    {
     "data": {
      "application/vnd.microsoft.datawrangler.viewer.v0+json": {
       "columns": [
        {
         "name": "index",
         "rawType": "int64",
         "type": "integer"
        },
        {
         "name": "PAÍS DE RESIDENCIA",
         "rawType": "category",
         "type": "unknown"
        },
        {
         "name": "Probabilidad_Moroso",
         "rawType": "float64",
         "type": "float"
        }
       ],
       "ref": "3d7222b8-7a74-449e-a7ee-a05488342587",
       "rows": [
        [
         "0",
         "Angola",
         "1.0"
        ],
        [
         "1",
         "China",
         "1.0"
        ],
        [
         "2",
         "Costa de Marfil",
         "1.0"
        ],
        [
         "3",
         "Catar",
         "1.0"
        ],
        [
         "4",
         "Israel",
         "1.0"
        ],
        [
         "5",
         "Brasil",
         "0.75"
        ],
        [
         "6",
         "Albania",
         "0.6666666666666666"
        ],
        [
         "7",
         "Líbano",
         "0.5"
        ],
        [
         "8",
         "Arabia Saudí",
         "0.5"
        ],
        [
         "9",
         "Polonia",
         "0.5"
        ],
        [
         "10",
         "Bolivia",
         "0.38461538461538464"
        ],
        [
         "11",
         "Sakartvelo",
         "0.375"
        ],
        [
         "12",
         "Argentina",
         "0.36363636363636365"
        ],
        [
         "13",
         "República Dominicana",
         "0.34375"
        ],
        [
         "14",
         "Perú",
         "0.2631578947368421"
        ],
        [
         "15",
         "México",
         "0.256"
        ],
        [
         "16",
         "Marruecos",
         "0.25"
        ],
        [
         "17",
         "Ecuador",
         "0.24427480916030533"
        ],
        [
         "18",
         "Panamá",
         "0.23529411764705882"
        ],
        [
         "19",
         "Estados Unidos",
         "0.23404255319148937"
        ],
        [
         "20",
         "Guatemala",
         "0.22448979591836735"
        ],
        [
         "21",
         "Puerto Rico",
         "0.2222222222222222"
        ],
        [
         "22",
         "Nicaragua",
         "0.20833333333333334"
        ],
        [
         "23",
         "El Salvador",
         "0.2054794520547945"
        ],
        [
         "24",
         "Libia",
         "0.2"
        ],
        [
         "25",
         "Chile",
         "0.15838509316770186"
        ],
        [
         "26",
         "Colombia",
         "0.15738963531669867"
        ],
        [
         "27",
         "Honduras",
         "0.1568627450980392"
        ],
        [
         "28",
         "Costa Rica",
         "0.14606741573033707"
        ],
        [
         "29",
         "Venezuela",
         "0.14285714285714285"
        ],
        [
         "30",
         "Paraguay",
         "0.13513513513513514"
        ],
        [
         "31",
         "Uruguay",
         "0.1"
        ],
        [
         "32",
         "España",
         "0.09803921568627451"
        ],
        [
         "33",
         "Portugal",
         "0.08333333333333333"
        ],
        [
         "34",
         "Corea del Sur",
         "0.0"
        ],
        [
         "35",
         "Dinamarca",
         "0.0"
        ],
        [
         "36",
         "Egipto",
         "0.0"
        ],
        [
         "37",
         "Austria",
         "0.0"
        ],
        [
         "38",
         "Andorra",
         "0.0"
        ],
        [
         "39",
         "Alemania",
         "0.0"
        ],
        [
         "40",
         "Australia",
         "0.0"
        ],
        [
         "41",
         "Bulgaria",
         "0.0"
        ],
        [
         "42",
         "Comoras",
         "0.0"
        ],
        [
         "43",
         "Bélgica",
         "0.0"
        ],
        [
         "44",
         "Canadá",
         "0.0"
        ],
        [
         "45",
         "Emiratos Árabes Unidos",
         "0.0"
        ],
        [
         "46",
         "Eslovaquia",
         "0.0"
        ],
        [
         "47",
         "Noruega",
         "0.0"
        ],
        [
         "48",
         "Irlanda",
         "0.0"
        ],
        [
         "49",
         "Hungría",
         "0.0"
        ]
       ],
       "shape": {
        "columns": 2,
        "rows": 61
       }
      },
      "text/html": [
       "<div>\n",
       "<style scoped>\n",
       "    .dataframe tbody tr th:only-of-type {\n",
       "        vertical-align: middle;\n",
       "    }\n",
       "\n",
       "    .dataframe tbody tr th {\n",
       "        vertical-align: top;\n",
       "    }\n",
       "\n",
       "    .dataframe thead th {\n",
       "        text-align: right;\n",
       "    }\n",
       "</style>\n",
       "<table border=\"1\" class=\"dataframe\">\n",
       "  <thead>\n",
       "    <tr style=\"text-align: right;\">\n",
       "      <th></th>\n",
       "      <th>PAÍS DE RESIDENCIA</th>\n",
       "      <th>Probabilidad_Moroso</th>\n",
       "    </tr>\n",
       "  </thead>\n",
       "  <tbody>\n",
       "    <tr>\n",
       "      <th>0</th>\n",
       "      <td>Angola</td>\n",
       "      <td>1.0</td>\n",
       "    </tr>\n",
       "    <tr>\n",
       "      <th>1</th>\n",
       "      <td>China</td>\n",
       "      <td>1.0</td>\n",
       "    </tr>\n",
       "    <tr>\n",
       "      <th>2</th>\n",
       "      <td>Costa de Marfil</td>\n",
       "      <td>1.0</td>\n",
       "    </tr>\n",
       "    <tr>\n",
       "      <th>3</th>\n",
       "      <td>Catar</td>\n",
       "      <td>1.0</td>\n",
       "    </tr>\n",
       "    <tr>\n",
       "      <th>4</th>\n",
       "      <td>Israel</td>\n",
       "      <td>1.0</td>\n",
       "    </tr>\n",
       "    <tr>\n",
       "      <th>...</th>\n",
       "      <td>...</td>\n",
       "      <td>...</td>\n",
       "    </tr>\n",
       "    <tr>\n",
       "      <th>56</th>\n",
       "      <td>Rumanía</td>\n",
       "      <td>0.0</td>\n",
       "    </tr>\n",
       "    <tr>\n",
       "      <th>57</th>\n",
       "      <td>Suiza</td>\n",
       "      <td>0.0</td>\n",
       "    </tr>\n",
       "    <tr>\n",
       "      <th>58</th>\n",
       "      <td>Suecia</td>\n",
       "      <td>0.0</td>\n",
       "    </tr>\n",
       "    <tr>\n",
       "      <th>59</th>\n",
       "      <td>Túnez</td>\n",
       "      <td>0.0</td>\n",
       "    </tr>\n",
       "    <tr>\n",
       "      <th>60</th>\n",
       "      <td>Turquía</td>\n",
       "      <td>0.0</td>\n",
       "    </tr>\n",
       "  </tbody>\n",
       "</table>\n",
       "<p>61 rows × 2 columns</p>\n",
       "</div>"
      ],
      "text/plain": [
       "   PAÍS DE RESIDENCIA  Probabilidad_Moroso\n",
       "0              Angola                  1.0\n",
       "1               China                  1.0\n",
       "2     Costa de Marfil                  1.0\n",
       "3               Catar                  1.0\n",
       "4              Israel                  1.0\n",
       "..                ...                  ...\n",
       "56            Rumanía                  0.0\n",
       "57              Suiza                  0.0\n",
       "58             Suecia                  0.0\n",
       "59              Túnez                  0.0\n",
       "60            Turquía                  0.0\n",
       "\n",
       "[61 rows x 2 columns]"
      ]
     },
     "metadata": {},
     "output_type": "display_data"
    },
    {
     "data": {
      "application/vnd.microsoft.datawrangler.viewer.v0+json": {
       "columns": [
        {
         "name": "index",
         "rawType": "int64",
         "type": "integer"
        },
        {
         "name": "AGRUPACION NACIONALIDAD",
         "rawType": "category",
         "type": "unknown"
        },
        {
         "name": "Probabilidad_Moroso",
         "rawType": "float64",
         "type": "float"
        }
       ],
       "ref": "962f8c96-aa81-41e0-acd6-5a7bf5e35a97",
       "rows": [
        [
         "0",
         "AFR/ASIA",
         "0.27906976744186046"
        ],
        [
         "1",
         "MÉXICO",
         "0.2513812154696133"
        ],
        [
         "2",
         "PERÚ",
         "0.2441860465116279"
        ],
        [
         "3",
         "ECUADOR",
         "0.23507462686567165"
        ],
        [
         "4",
         "VIP",
         "0.20209059233449478"
        ],
        [
         "5",
         "R. LATAM",
         "0.19936708860759494"
        ],
        [
         "6",
         "COLOMBIA",
         "0.16270566727605118"
        ],
        [
         "7",
         "CHILE",
         "0.1602787456445993"
        ],
        [
         "8",
         "COSTA RICA",
         "0.14285714285714285"
        ],
        [
         "9",
         "EUR+US",
         "0.1111111111111111"
        ],
        [
         "10",
         "ESPAÑA",
         "0.08982035928143713"
        ]
       ],
       "shape": {
        "columns": 2,
        "rows": 11
       }
      },
      "text/html": [
       "<div>\n",
       "<style scoped>\n",
       "    .dataframe tbody tr th:only-of-type {\n",
       "        vertical-align: middle;\n",
       "    }\n",
       "\n",
       "    .dataframe tbody tr th {\n",
       "        vertical-align: top;\n",
       "    }\n",
       "\n",
       "    .dataframe thead th {\n",
       "        text-align: right;\n",
       "    }\n",
       "</style>\n",
       "<table border=\"1\" class=\"dataframe\">\n",
       "  <thead>\n",
       "    <tr style=\"text-align: right;\">\n",
       "      <th></th>\n",
       "      <th>AGRUPACION NACIONALIDAD</th>\n",
       "      <th>Probabilidad_Moroso</th>\n",
       "    </tr>\n",
       "  </thead>\n",
       "  <tbody>\n",
       "    <tr>\n",
       "      <th>0</th>\n",
       "      <td>AFR/ASIA</td>\n",
       "      <td>0.279070</td>\n",
       "    </tr>\n",
       "    <tr>\n",
       "      <th>1</th>\n",
       "      <td>MÉXICO</td>\n",
       "      <td>0.251381</td>\n",
       "    </tr>\n",
       "    <tr>\n",
       "      <th>2</th>\n",
       "      <td>PERÚ</td>\n",
       "      <td>0.244186</td>\n",
       "    </tr>\n",
       "    <tr>\n",
       "      <th>3</th>\n",
       "      <td>ECUADOR</td>\n",
       "      <td>0.235075</td>\n",
       "    </tr>\n",
       "    <tr>\n",
       "      <th>4</th>\n",
       "      <td>VIP</td>\n",
       "      <td>0.202091</td>\n",
       "    </tr>\n",
       "    <tr>\n",
       "      <th>5</th>\n",
       "      <td>R. LATAM</td>\n",
       "      <td>0.199367</td>\n",
       "    </tr>\n",
       "    <tr>\n",
       "      <th>6</th>\n",
       "      <td>COLOMBIA</td>\n",
       "      <td>0.162706</td>\n",
       "    </tr>\n",
       "    <tr>\n",
       "      <th>7</th>\n",
       "      <td>CHILE</td>\n",
       "      <td>0.160279</td>\n",
       "    </tr>\n",
       "    <tr>\n",
       "      <th>8</th>\n",
       "      <td>COSTA RICA</td>\n",
       "      <td>0.142857</td>\n",
       "    </tr>\n",
       "    <tr>\n",
       "      <th>9</th>\n",
       "      <td>EUR+US</td>\n",
       "      <td>0.111111</td>\n",
       "    </tr>\n",
       "    <tr>\n",
       "      <th>10</th>\n",
       "      <td>ESPAÑA</td>\n",
       "      <td>0.089820</td>\n",
       "    </tr>\n",
       "  </tbody>\n",
       "</table>\n",
       "</div>"
      ],
      "text/plain": [
       "   AGRUPACION NACIONALIDAD  Probabilidad_Moroso\n",
       "0                 AFR/ASIA             0.279070\n",
       "1                   MÉXICO             0.251381\n",
       "2                     PERÚ             0.244186\n",
       "3                  ECUADOR             0.235075\n",
       "4                      VIP             0.202091\n",
       "5                 R. LATAM             0.199367\n",
       "6                 COLOMBIA             0.162706\n",
       "7                    CHILE             0.160279\n",
       "8               COSTA RICA             0.142857\n",
       "9                   EUR+US             0.111111\n",
       "10                  ESPAÑA             0.089820"
      ]
     },
     "metadata": {},
     "output_type": "display_data"
    },
    {
     "data": {
      "application/vnd.microsoft.datawrangler.viewer.v0+json": {
       "columns": [
        {
         "name": "index",
         "rawType": "int64",
         "type": "integer"
        },
        {
         "name": "AGRUPACION PAÍS DE RESIDENCIA",
         "rawType": "category",
         "type": "unknown"
        },
        {
         "name": "Probabilidad_Moroso",
         "rawType": "float64",
         "type": "float"
        }
       ],
       "ref": "edda1c24-79c5-4f4b-8b41-b0fdedbf834d",
       "rows": [
        [
         "0",
         "AFR/ASIA",
         "0.32608695652173914"
        ],
        [
         "1",
         "PERÚ",
         "0.2631578947368421"
        ],
        [
         "2",
         "MÉXICO",
         "0.256"
        ],
        [
         "3",
         "R. LATAM",
         "0.24778761061946902"
        ],
        [
         "4",
         "ECUADOR",
         "0.24427480916030533"
        ],
        [
         "5",
         "VIP",
         "0.1792452830188679"
        ],
        [
         "6",
         "CHILE",
         "0.15838509316770186"
        ],
        [
         "7",
         "COLOMBIA",
         "0.15738963531669867"
        ],
        [
         "8",
         "COSTA RICA",
         "0.14606741573033707"
        ],
        [
         "9",
         "ESPAÑA",
         "0.09803921568627451"
        ],
        [
         "10",
         "EUR+US",
         "0.05970149253731343"
        ]
       ],
       "shape": {
        "columns": 2,
        "rows": 11
       }
      },
      "text/html": [
       "<div>\n",
       "<style scoped>\n",
       "    .dataframe tbody tr th:only-of-type {\n",
       "        vertical-align: middle;\n",
       "    }\n",
       "\n",
       "    .dataframe tbody tr th {\n",
       "        vertical-align: top;\n",
       "    }\n",
       "\n",
       "    .dataframe thead th {\n",
       "        text-align: right;\n",
       "    }\n",
       "</style>\n",
       "<table border=\"1\" class=\"dataframe\">\n",
       "  <thead>\n",
       "    <tr style=\"text-align: right;\">\n",
       "      <th></th>\n",
       "      <th>AGRUPACION PAÍS DE RESIDENCIA</th>\n",
       "      <th>Probabilidad_Moroso</th>\n",
       "    </tr>\n",
       "  </thead>\n",
       "  <tbody>\n",
       "    <tr>\n",
       "      <th>0</th>\n",
       "      <td>AFR/ASIA</td>\n",
       "      <td>0.326087</td>\n",
       "    </tr>\n",
       "    <tr>\n",
       "      <th>1</th>\n",
       "      <td>PERÚ</td>\n",
       "      <td>0.263158</td>\n",
       "    </tr>\n",
       "    <tr>\n",
       "      <th>2</th>\n",
       "      <td>MÉXICO</td>\n",
       "      <td>0.256000</td>\n",
       "    </tr>\n",
       "    <tr>\n",
       "      <th>3</th>\n",
       "      <td>R. LATAM</td>\n",
       "      <td>0.247788</td>\n",
       "    </tr>\n",
       "    <tr>\n",
       "      <th>4</th>\n",
       "      <td>ECUADOR</td>\n",
       "      <td>0.244275</td>\n",
       "    </tr>\n",
       "    <tr>\n",
       "      <th>5</th>\n",
       "      <td>VIP</td>\n",
       "      <td>0.179245</td>\n",
       "    </tr>\n",
       "    <tr>\n",
       "      <th>6</th>\n",
       "      <td>CHILE</td>\n",
       "      <td>0.158385</td>\n",
       "    </tr>\n",
       "    <tr>\n",
       "      <th>7</th>\n",
       "      <td>COLOMBIA</td>\n",
       "      <td>0.157390</td>\n",
       "    </tr>\n",
       "    <tr>\n",
       "      <th>8</th>\n",
       "      <td>COSTA RICA</td>\n",
       "      <td>0.146067</td>\n",
       "    </tr>\n",
       "    <tr>\n",
       "      <th>9</th>\n",
       "      <td>ESPAÑA</td>\n",
       "      <td>0.098039</td>\n",
       "    </tr>\n",
       "    <tr>\n",
       "      <th>10</th>\n",
       "      <td>EUR+US</td>\n",
       "      <td>0.059701</td>\n",
       "    </tr>\n",
       "  </tbody>\n",
       "</table>\n",
       "</div>"
      ],
      "text/plain": [
       "   AGRUPACION PAÍS DE RESIDENCIA  Probabilidad_Moroso\n",
       "0                       AFR/ASIA             0.326087\n",
       "1                           PERÚ             0.263158\n",
       "2                         MÉXICO             0.256000\n",
       "3                       R. LATAM             0.247788\n",
       "4                        ECUADOR             0.244275\n",
       "5                            VIP             0.179245\n",
       "6                          CHILE             0.158385\n",
       "7                       COLOMBIA             0.157390\n",
       "8                     COSTA RICA             0.146067\n",
       "9                         ESPAÑA             0.098039\n",
       "10                        EUR+US             0.059701"
      ]
     },
     "metadata": {},
     "output_type": "display_data"
    },
    {
     "data": {
      "application/vnd.microsoft.datawrangler.viewer.v0+json": {
       "columns": [
        {
         "name": "index",
         "rawType": "int64",
         "type": "integer"
        },
        {
         "name": "MANTIENE MEDIO PAGO",
         "rawType": "category",
         "type": "unknown"
        },
        {
         "name": "Probabilidad_Moroso",
         "rawType": "float64",
         "type": "float"
        }
       ],
       "ref": "63a35902-4fb2-4d4f-a591-efb1131f7838",
       "rows": [
        [
         "0",
         "False",
         "0.22021210230817218"
        ],
        [
         "1",
         "True",
         "0.13911290322580644"
        ]
       ],
       "shape": {
        "columns": 2,
        "rows": 2
       }
      },
      "text/html": [
       "<div>\n",
       "<style scoped>\n",
       "    .dataframe tbody tr th:only-of-type {\n",
       "        vertical-align: middle;\n",
       "    }\n",
       "\n",
       "    .dataframe tbody tr th {\n",
       "        vertical-align: top;\n",
       "    }\n",
       "\n",
       "    .dataframe thead th {\n",
       "        text-align: right;\n",
       "    }\n",
       "</style>\n",
       "<table border=\"1\" class=\"dataframe\">\n",
       "  <thead>\n",
       "    <tr style=\"text-align: right;\">\n",
       "      <th></th>\n",
       "      <th>MANTIENE MEDIO PAGO</th>\n",
       "      <th>Probabilidad_Moroso</th>\n",
       "    </tr>\n",
       "  </thead>\n",
       "  <tbody>\n",
       "    <tr>\n",
       "      <th>0</th>\n",
       "      <td>False</td>\n",
       "      <td>0.220212</td>\n",
       "    </tr>\n",
       "    <tr>\n",
       "      <th>1</th>\n",
       "      <td>True</td>\n",
       "      <td>0.139113</td>\n",
       "    </tr>\n",
       "  </tbody>\n",
       "</table>\n",
       "</div>"
      ],
      "text/plain": [
       "  MANTIENE MEDIO PAGO  Probabilidad_Moroso\n",
       "0               False             0.220212\n",
       "1                True             0.139113"
      ]
     },
     "metadata": {},
     "output_type": "display_data"
    },
    {
     "data": {
      "application/vnd.microsoft.datawrangler.viewer.v0+json": {
       "columns": [
        {
         "name": "index",
         "rawType": "int64",
         "type": "integer"
        },
        {
         "name": "DIFERENCIA PI vs. IMPORTE PTE",
         "rawType": "category",
         "type": "unknown"
        },
        {
         "name": "Probabilidad_Moroso",
         "rawType": "float64",
         "type": "float"
        }
       ],
       "ref": "caf7d414-2643-4436-b2af-d03a9fa5ddaa",
       "rows": [
        [
         "0",
         "False",
         "0.22021210230817218"
        ],
        [
         "1",
         "True",
         "0.13911290322580644"
        ]
       ],
       "shape": {
        "columns": 2,
        "rows": 2
       }
      },
      "text/html": [
       "<div>\n",
       "<style scoped>\n",
       "    .dataframe tbody tr th:only-of-type {\n",
       "        vertical-align: middle;\n",
       "    }\n",
       "\n",
       "    .dataframe tbody tr th {\n",
       "        vertical-align: top;\n",
       "    }\n",
       "\n",
       "    .dataframe thead th {\n",
       "        text-align: right;\n",
       "    }\n",
       "</style>\n",
       "<table border=\"1\" class=\"dataframe\">\n",
       "  <thead>\n",
       "    <tr style=\"text-align: right;\">\n",
       "      <th></th>\n",
       "      <th>DIFERENCIA PI vs. IMPORTE PTE</th>\n",
       "      <th>Probabilidad_Moroso</th>\n",
       "    </tr>\n",
       "  </thead>\n",
       "  <tbody>\n",
       "    <tr>\n",
       "      <th>0</th>\n",
       "      <td>False</td>\n",
       "      <td>0.220212</td>\n",
       "    </tr>\n",
       "    <tr>\n",
       "      <th>1</th>\n",
       "      <td>True</td>\n",
       "      <td>0.139113</td>\n",
       "    </tr>\n",
       "  </tbody>\n",
       "</table>\n",
       "</div>"
      ],
      "text/plain": [
       "  DIFERENCIA PI vs. IMPORTE PTE  Probabilidad_Moroso\n",
       "0                         False             0.220212\n",
       "1                          True             0.139113"
      ]
     },
     "metadata": {},
     "output_type": "display_data"
    }
   ],
   "source": [
    "for col in df_relacion_categoricas['var1'].tolist():\n",
    "    # Convertir 'Moroso' a numérico para calcular la probabilidad\n",
    "    prob_cat = df_convo_deuda.groupby(col)['Moroso'].apply(lambda x: x.cat.codes.mean()).sort_values(ascending=False)\n",
    "    tabla = prob_cat.reset_index()\n",
    "    tabla.columns = [col, 'Probabilidad_Moroso']\n",
    "    display(tabla)\n"
   ]
  },
  {
   "cell_type": "markdown",
   "id": "80533d91",
   "metadata": {},
   "source": []
  }
 ],
 "metadata": {
  "kernelspec": {
   "display_name": "Python 3",
   "language": "python",
   "name": "python3"
  },
  "language_info": {
   "codemirror_mode": {
    "name": "ipython",
    "version": 3
   },
   "file_extension": ".py",
   "mimetype": "text/x-python",
   "name": "python",
   "nbconvert_exporter": "python",
   "pygments_lexer": "ipython3",
   "version": "3.11.9"
  }
 },
 "nbformat": 4,
 "nbformat_minor": 5
}
